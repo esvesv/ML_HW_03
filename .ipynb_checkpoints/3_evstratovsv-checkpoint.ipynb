{
 "cells": [
  {
   "cell_type": "markdown",
   "id": "6d74d247",
   "metadata": {},
   "source": [
    "# ЗАДАНИЕ 3 #\n",
    " \n",
    "\n",
    "## УСЛОВИЕ: ##\n",
    "Скачиваем и работаем с данными train.csv.\n",
    "\n",
    "Необходимо произвести предобработку данных, обучить модели на алгоритмах, рассмотренных в уроках, оценить модели с помощью рассмотренных метрик и объяснить выбор определенной метрики.\n",
    "\n",
    " \n",
    "\n",
    "## СРОК СДАЧИ: ##\n",
    "2 ноября\n",
    "\n",
    " \n",
    "\n",
    "## КАК БУДЕТ ОЦЕНИВАТЬСЯ ЗАДАЧА: ##\n",
    "\n",
    "Критерий оценки|Балл (max 10)\n",
    ":---|---\n",
    "Предобработка данных | 3\n",
    "Обучение моделей      | 4\n",
    "Выбор метрики и оценка моделей | 3\n",
    "\n",
    " \n",
    "\n",
    "## КАК БУДЕТ ПРОВЕРЯТЬСЯ:  ##\n",
    "Преподаватель проверит задание в течение первой недели после срока сдачи.\n",
    "\n",
    " \n",
    "\n",
    "## КАК ОТПРАВИТЬ ДЗ НА ПРОВЕРКУ: ##\n",
    "На удаленном сервере для вас создана домашняя директория пользователя /home/studentX и ноутбуки надо складывать в нее.\n",
    "Вы можете выполнять работу у себя на локальном компьютере, но после нужно сохранить блокнот на удаленный сервер(см. пункт 1) подписав файл в формате \"3_ivanovii\" (номер модуля и латинице: фио).\n",
    "Задача будет разобрана на семинаре следующего модуля преподавателем, после закрытия дедлайна (например дз 1го модуля(недели), будет разобрано на семинаре 2го модуля(недели))."
   ]
  },
  {
   "cell_type": "code",
   "execution_count": null,
   "id": "e76c5a72",
   "metadata": {},
   "outputs": [],
   "source": []
  },
  {
   "cell_type": "markdown",
   "id": "4ad8265d",
   "metadata": {},
   "source": [
    "## Импортируем необходимые библиотеки"
   ]
  },
  {
   "cell_type": "code",
   "execution_count": 1,
   "id": "0ed507ad",
   "metadata": {},
   "outputs": [],
   "source": [
    "import numpy as np\n",
    "import pandas as pd\n",
    "# from clf_utils import BlackBoxMethod, fetch_dataset # если есть доступ к файлу, раскомментить\n",
    "import matplotlib.pyplot as plt\n",
    "from sklearn.metrics import (accuracy_score, precision_score, recall_score,\n",
    "                             f1_score, roc_auc_score, roc_curve, auc,\n",
    "                             classification_report)\n",
    "from sklearn.model_selection import train_test_split"
   ]
  },
  {
   "cell_type": "code",
   "execution_count": null,
   "id": "3e85fa89",
   "metadata": {},
   "outputs": [],
   "source": []
  }
 ],
 "metadata": {
  "kernelspec": {
   "display_name": "Python 3 (ipykernel)",
   "language": "python",
   "name": "python3"
  },
  "language_info": {
   "codemirror_mode": {
    "name": "ipython",
    "version": 3
   },
   "file_extension": ".py",
   "mimetype": "text/x-python",
   "name": "python",
   "nbconvert_exporter": "python",
   "pygments_lexer": "ipython3",
   "version": "3.10.6"
  }
 },
 "nbformat": 4,
 "nbformat_minor": 5
}
