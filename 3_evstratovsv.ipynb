{
 "cells": [
  {
   "cell_type": "markdown",
   "id": "6d74d247",
   "metadata": {},
   "source": [
    "# ЗАДАНИЕ 3 #\n",
    " \n",
    "\n",
    "## УСЛОВИЕ: ##\n",
    "Необходимо произвести предобработку данных, обучить модели на алгоритмах, рассмотренных в уроках, оценить модели с помощью рассмотренных метрик и объяснить выбор определенной метрики.\n",
    "\n",
    "**Описание данных**\n",
    "\n",
    "* Pclass — класс пассажира (1 — высший, 2 — средний, 3 — низший);\n",
    "* Name — имя;\n",
    "* Sex — пол;\n",
    "* Age — возраст;\n",
    "* SibSp — количество братьев, сестер, сводных братьев, сводных сестер, супругов на борту титаника;\n",
    "* Parch — количество родителей, детей (в том числе приемных) на борту титаника;\n",
    "* Ticket — номер билета;\n",
    "* Fare — плата за проезд;\n",
    "* Cabin — каюта;\n",
    "* Embarked — порт посадки (C — Шербур; Q — Квинстаун; S — Саутгемптон)."
   ]
  },
  {
   "cell_type": "markdown",
   "id": "4ad8265d",
   "metadata": {},
   "source": [
    "# Импортируем необходимые библиотеки"
   ]
  },
  {
   "cell_type": "code",
   "execution_count": 1,
   "id": "0ed507ad",
   "metadata": {},
   "outputs": [],
   "source": [
    "import numpy as np\n",
    "import pandas as pd\n",
    "import matplotlib.pyplot as plt\n",
    "import seaborn as sns\n",
    "from sklearn.metrics import (accuracy_score, precision_score, recall_score,\n",
    "                             f1_score, roc_auc_score, roc_curve, auc,\n",
    "                             classification_report)\n",
    "from sklearn.model_selection import train_test_split\n",
    "\n",
    "from sklearn.linear_model import LogisticRegression\n",
    "from sklearn.svm import SVC\n",
    "from sklearn.naive_bayes import GaussianNB\n",
    "from sklearn.neighbors import KNeighborsClassifier\n",
    "from sklearn.pipeline import make_pipeline\n",
    "from sklearn.preprocessing import StandardScaler\n",
    "from sklearn.metrics import RocCurveDisplay"
   ]
  },
  {
   "cell_type": "markdown",
   "id": "79406806",
   "metadata": {},
   "source": [
    "# Прочитаем файл"
   ]
  },
  {
   "cell_type": "code",
   "execution_count": 2,
   "id": "3e85fa89",
   "metadata": {
    "scrolled": true
   },
   "outputs": [
    {
     "data": {
      "text/html": [
       "<div>\n",
       "<style scoped>\n",
       "    .dataframe tbody tr th:only-of-type {\n",
       "        vertical-align: middle;\n",
       "    }\n",
       "\n",
       "    .dataframe tbody tr th {\n",
       "        vertical-align: top;\n",
       "    }\n",
       "\n",
       "    .dataframe thead th {\n",
       "        text-align: right;\n",
       "    }\n",
       "</style>\n",
       "<table border=\"1\" class=\"dataframe\">\n",
       "  <thead>\n",
       "    <tr style=\"text-align: right;\">\n",
       "      <th></th>\n",
       "      <th>Survived</th>\n",
       "      <th>Pclass</th>\n",
       "      <th>Name</th>\n",
       "      <th>Sex</th>\n",
       "      <th>Age</th>\n",
       "      <th>SibSp</th>\n",
       "      <th>Parch</th>\n",
       "      <th>Ticket</th>\n",
       "      <th>Fare</th>\n",
       "      <th>Cabin</th>\n",
       "      <th>Embarked</th>\n",
       "    </tr>\n",
       "    <tr>\n",
       "      <th>PassengerId</th>\n",
       "      <th></th>\n",
       "      <th></th>\n",
       "      <th></th>\n",
       "      <th></th>\n",
       "      <th></th>\n",
       "      <th></th>\n",
       "      <th></th>\n",
       "      <th></th>\n",
       "      <th></th>\n",
       "      <th></th>\n",
       "      <th></th>\n",
       "    </tr>\n",
       "  </thead>\n",
       "  <tbody>\n",
       "    <tr>\n",
       "      <th>1</th>\n",
       "      <td>0</td>\n",
       "      <td>3</td>\n",
       "      <td>Braund, Mr. Owen Harris</td>\n",
       "      <td>male</td>\n",
       "      <td>22.0</td>\n",
       "      <td>1</td>\n",
       "      <td>0</td>\n",
       "      <td>A/5 21171</td>\n",
       "      <td>7.2500</td>\n",
       "      <td>NaN</td>\n",
       "      <td>S</td>\n",
       "    </tr>\n",
       "    <tr>\n",
       "      <th>2</th>\n",
       "      <td>1</td>\n",
       "      <td>1</td>\n",
       "      <td>Cumings, Mrs. John Bradley (Florence Briggs Th...</td>\n",
       "      <td>female</td>\n",
       "      <td>38.0</td>\n",
       "      <td>1</td>\n",
       "      <td>0</td>\n",
       "      <td>PC 17599</td>\n",
       "      <td>71.2833</td>\n",
       "      <td>C85</td>\n",
       "      <td>C</td>\n",
       "    </tr>\n",
       "  </tbody>\n",
       "</table>\n",
       "</div>"
      ],
      "text/plain": [
       "             Survived  Pclass  \\\n",
       "PassengerId                     \n",
       "1                   0       3   \n",
       "2                   1       1   \n",
       "\n",
       "                                                          Name     Sex   Age  \\\n",
       "PassengerId                                                                    \n",
       "1                                      Braund, Mr. Owen Harris    male  22.0   \n",
       "2            Cumings, Mrs. John Bradley (Florence Briggs Th...  female  38.0   \n",
       "\n",
       "             SibSp  Parch     Ticket     Fare Cabin Embarked  \n",
       "PassengerId                                                   \n",
       "1                1      0  A/5 21171   7.2500   NaN        S  \n",
       "2                1      0   PC 17599  71.2833   C85        C  "
      ]
     },
     "execution_count": 2,
     "metadata": {},
     "output_type": "execute_result"
    }
   ],
   "source": [
    "df = pd.read_csv('https://lms.skillfactory.ru/asset-v1:SkillFactory+MIPTDS+SEPT22+type@asset+block@train.csv', index_col=0)\n",
    "df.head(2)"
   ]
  },
  {
   "cell_type": "code",
   "execution_count": 3,
   "id": "827ab3d3",
   "metadata": {},
   "outputs": [
    {
     "name": "stdout",
     "output_type": "stream",
     "text": [
      "<class 'pandas.core.frame.DataFrame'>\n",
      "Int64Index: 891 entries, 1 to 891\n",
      "Data columns (total 11 columns):\n",
      " #   Column    Non-Null Count  Dtype  \n",
      "---  ------    --------------  -----  \n",
      " 0   Survived  891 non-null    int64  \n",
      " 1   Pclass    891 non-null    int64  \n",
      " 2   Name      891 non-null    object \n",
      " 3   Sex       891 non-null    object \n",
      " 4   Age       714 non-null    float64\n",
      " 5   SibSp     891 non-null    int64  \n",
      " 6   Parch     891 non-null    int64  \n",
      " 7   Ticket    891 non-null    object \n",
      " 8   Fare      891 non-null    float64\n",
      " 9   Cabin     204 non-null    object \n",
      " 10  Embarked  889 non-null    object \n",
      "dtypes: float64(2), int64(4), object(5)\n",
      "memory usage: 83.5+ KB\n"
     ]
    }
   ],
   "source": [
    "df.info()"
   ]
  },
  {
   "cell_type": "code",
   "execution_count": 4,
   "id": "16c19ff5",
   "metadata": {},
   "outputs": [
    {
     "data": {
      "text/html": [
       "<div>\n",
       "<style scoped>\n",
       "    .dataframe tbody tr th:only-of-type {\n",
       "        vertical-align: middle;\n",
       "    }\n",
       "\n",
       "    .dataframe tbody tr th {\n",
       "        vertical-align: top;\n",
       "    }\n",
       "\n",
       "    .dataframe thead th {\n",
       "        text-align: right;\n",
       "    }\n",
       "</style>\n",
       "<table border=\"1\" class=\"dataframe\">\n",
       "  <thead>\n",
       "    <tr style=\"text-align: right;\">\n",
       "      <th></th>\n",
       "      <th>Survived</th>\n",
       "      <th>Pclass</th>\n",
       "      <th>Age</th>\n",
       "      <th>SibSp</th>\n",
       "      <th>Parch</th>\n",
       "      <th>Fare</th>\n",
       "    </tr>\n",
       "  </thead>\n",
       "  <tbody>\n",
       "    <tr>\n",
       "      <th>count</th>\n",
       "      <td>891.000000</td>\n",
       "      <td>891.000000</td>\n",
       "      <td>714.000000</td>\n",
       "      <td>891.000000</td>\n",
       "      <td>891.000000</td>\n",
       "      <td>891.000000</td>\n",
       "    </tr>\n",
       "    <tr>\n",
       "      <th>mean</th>\n",
       "      <td>0.383838</td>\n",
       "      <td>2.308642</td>\n",
       "      <td>29.699118</td>\n",
       "      <td>0.523008</td>\n",
       "      <td>0.381594</td>\n",
       "      <td>32.204208</td>\n",
       "    </tr>\n",
       "    <tr>\n",
       "      <th>std</th>\n",
       "      <td>0.486592</td>\n",
       "      <td>0.836071</td>\n",
       "      <td>14.526497</td>\n",
       "      <td>1.102743</td>\n",
       "      <td>0.806057</td>\n",
       "      <td>49.693429</td>\n",
       "    </tr>\n",
       "    <tr>\n",
       "      <th>min</th>\n",
       "      <td>0.000000</td>\n",
       "      <td>1.000000</td>\n",
       "      <td>0.420000</td>\n",
       "      <td>0.000000</td>\n",
       "      <td>0.000000</td>\n",
       "      <td>0.000000</td>\n",
       "    </tr>\n",
       "    <tr>\n",
       "      <th>25%</th>\n",
       "      <td>0.000000</td>\n",
       "      <td>2.000000</td>\n",
       "      <td>20.125000</td>\n",
       "      <td>0.000000</td>\n",
       "      <td>0.000000</td>\n",
       "      <td>7.910400</td>\n",
       "    </tr>\n",
       "    <tr>\n",
       "      <th>50%</th>\n",
       "      <td>0.000000</td>\n",
       "      <td>3.000000</td>\n",
       "      <td>28.000000</td>\n",
       "      <td>0.000000</td>\n",
       "      <td>0.000000</td>\n",
       "      <td>14.454200</td>\n",
       "    </tr>\n",
       "    <tr>\n",
       "      <th>75%</th>\n",
       "      <td>1.000000</td>\n",
       "      <td>3.000000</td>\n",
       "      <td>38.000000</td>\n",
       "      <td>1.000000</td>\n",
       "      <td>0.000000</td>\n",
       "      <td>31.000000</td>\n",
       "    </tr>\n",
       "    <tr>\n",
       "      <th>max</th>\n",
       "      <td>1.000000</td>\n",
       "      <td>3.000000</td>\n",
       "      <td>80.000000</td>\n",
       "      <td>8.000000</td>\n",
       "      <td>6.000000</td>\n",
       "      <td>512.329200</td>\n",
       "    </tr>\n",
       "  </tbody>\n",
       "</table>\n",
       "</div>"
      ],
      "text/plain": [
       "         Survived      Pclass         Age       SibSp       Parch        Fare\n",
       "count  891.000000  891.000000  714.000000  891.000000  891.000000  891.000000\n",
       "mean     0.383838    2.308642   29.699118    0.523008    0.381594   32.204208\n",
       "std      0.486592    0.836071   14.526497    1.102743    0.806057   49.693429\n",
       "min      0.000000    1.000000    0.420000    0.000000    0.000000    0.000000\n",
       "25%      0.000000    2.000000   20.125000    0.000000    0.000000    7.910400\n",
       "50%      0.000000    3.000000   28.000000    0.000000    0.000000   14.454200\n",
       "75%      1.000000    3.000000   38.000000    1.000000    0.000000   31.000000\n",
       "max      1.000000    3.000000   80.000000    8.000000    6.000000  512.329200"
      ]
     },
     "execution_count": 4,
     "metadata": {},
     "output_type": "execute_result"
    }
   ],
   "source": [
    "df.describe()"
   ]
  },
  {
   "cell_type": "markdown",
   "id": "93fd2388",
   "metadata": {},
   "source": [
    "Пропуски в данных"
   ]
  },
  {
   "cell_type": "code",
   "execution_count": 5,
   "id": "89a06ba1",
   "metadata": {
    "scrolled": true
   },
   "outputs": [
    {
     "data": {
      "text/html": [
       "<div>\n",
       "<style scoped>\n",
       "    .dataframe tbody tr th:only-of-type {\n",
       "        vertical-align: middle;\n",
       "    }\n",
       "\n",
       "    .dataframe tbody tr th {\n",
       "        vertical-align: top;\n",
       "    }\n",
       "\n",
       "    .dataframe thead th {\n",
       "        text-align: right;\n",
       "    }\n",
       "</style>\n",
       "<table border=\"1\" class=\"dataframe\">\n",
       "  <thead>\n",
       "    <tr style=\"text-align: right;\">\n",
       "      <th></th>\n",
       "      <th>кол-во</th>\n",
       "      <th>доля</th>\n",
       "    </tr>\n",
       "  </thead>\n",
       "  <tbody>\n",
       "    <tr>\n",
       "      <th>Survived</th>\n",
       "      <td>0.0</td>\n",
       "      <td>0.000000</td>\n",
       "    </tr>\n",
       "    <tr>\n",
       "      <th>Pclass</th>\n",
       "      <td>0.0</td>\n",
       "      <td>0.000000</td>\n",
       "    </tr>\n",
       "    <tr>\n",
       "      <th>Name</th>\n",
       "      <td>0.0</td>\n",
       "      <td>0.000000</td>\n",
       "    </tr>\n",
       "    <tr>\n",
       "      <th>Sex</th>\n",
       "      <td>0.0</td>\n",
       "      <td>0.000000</td>\n",
       "    </tr>\n",
       "    <tr>\n",
       "      <th>Age</th>\n",
       "      <td>177.0</td>\n",
       "      <td>0.198653</td>\n",
       "    </tr>\n",
       "    <tr>\n",
       "      <th>SibSp</th>\n",
       "      <td>0.0</td>\n",
       "      <td>0.000000</td>\n",
       "    </tr>\n",
       "    <tr>\n",
       "      <th>Parch</th>\n",
       "      <td>0.0</td>\n",
       "      <td>0.000000</td>\n",
       "    </tr>\n",
       "    <tr>\n",
       "      <th>Ticket</th>\n",
       "      <td>0.0</td>\n",
       "      <td>0.000000</td>\n",
       "    </tr>\n",
       "    <tr>\n",
       "      <th>Fare</th>\n",
       "      <td>0.0</td>\n",
       "      <td>0.000000</td>\n",
       "    </tr>\n",
       "    <tr>\n",
       "      <th>Cabin</th>\n",
       "      <td>687.0</td>\n",
       "      <td>0.771044</td>\n",
       "    </tr>\n",
       "    <tr>\n",
       "      <th>Embarked</th>\n",
       "      <td>2.0</td>\n",
       "      <td>0.002245</td>\n",
       "    </tr>\n",
       "  </tbody>\n",
       "</table>\n",
       "</div>"
      ],
      "text/plain": [
       "          кол-во      доля\n",
       "Survived     0.0  0.000000\n",
       "Pclass       0.0  0.000000\n",
       "Name         0.0  0.000000\n",
       "Sex          0.0  0.000000\n",
       "Age        177.0  0.198653\n",
       "SibSp        0.0  0.000000\n",
       "Parch        0.0  0.000000\n",
       "Ticket       0.0  0.000000\n",
       "Fare         0.0  0.000000\n",
       "Cabin      687.0  0.771044\n",
       "Embarked     2.0  0.002245"
      ]
     },
     "execution_count": 5,
     "metadata": {},
     "output_type": "execute_result"
    }
   ],
   "source": [
    "df.isna().agg(['sum', 'mean']).T.rename({'sum': 'кол-во', 'mean': 'доля'}, axis=1)"
   ]
  },
  {
   "cell_type": "markdown",
   "id": "d5f8edde",
   "metadata": {},
   "source": [
    "# Признаки"
   ]
  },
  {
   "cell_type": "markdown",
   "id": "23aca127",
   "metadata": {},
   "source": [
    "### 1. Survived — выжил пассажир или погиб \n",
    "**(0 — погиб, 1 — выжил)**\n",
    "\n",
    "Более 60% пассажиров погибли"
   ]
  },
  {
   "cell_type": "code",
   "execution_count": 6,
   "id": "700de9d4",
   "metadata": {
    "scrolled": true
   },
   "outputs": [
    {
     "data": {
      "text/plain": [
       "Не выжили    61.616162\n",
       "Выжили       38.383838\n",
       "Name: Survived, dtype: float64"
      ]
     },
     "execution_count": 6,
     "metadata": {},
     "output_type": "execute_result"
    }
   ],
   "source": [
    "survived_df = df.Survived.value_counts(normalize=True) * 100\n",
    "survived_df.index = ['Не выжили', 'Выжили']\n",
    "survived_df"
   ]
  },
  {
   "cell_type": "markdown",
   "id": "68b1e3f4",
   "metadata": {},
   "source": [
    "### 2. Pclass — класс пассажира\n",
    "**(1 — высший, 2 — средний, 3 — низший)**"
   ]
  },
  {
   "cell_type": "code",
   "execution_count": 7,
   "id": "8a38b599",
   "metadata": {},
   "outputs": [
    {
     "data": {
      "text/html": [
       "<div>\n",
       "<style scoped>\n",
       "    .dataframe tbody tr th:only-of-type {\n",
       "        vertical-align: middle;\n",
       "    }\n",
       "\n",
       "    .dataframe tbody tr th {\n",
       "        vertical-align: top;\n",
       "    }\n",
       "\n",
       "    .dataframe thead th {\n",
       "        text-align: right;\n",
       "    }\n",
       "</style>\n",
       "<table border=\"1\" class=\"dataframe\">\n",
       "  <thead>\n",
       "    <tr style=\"text-align: right;\">\n",
       "      <th></th>\n",
       "      <th>Выжили</th>\n",
       "      <th>Не выжили</th>\n",
       "    </tr>\n",
       "  </thead>\n",
       "  <tbody>\n",
       "    <tr>\n",
       "      <th>Класс 1</th>\n",
       "      <td>62.96</td>\n",
       "      <td>37.04</td>\n",
       "    </tr>\n",
       "    <tr>\n",
       "      <th>Класс 2</th>\n",
       "      <td>47.28</td>\n",
       "      <td>52.72</td>\n",
       "    </tr>\n",
       "    <tr>\n",
       "      <th>Класс 3</th>\n",
       "      <td>24.24</td>\n",
       "      <td>75.76</td>\n",
       "    </tr>\n",
       "  </tbody>\n",
       "</table>\n",
       "</div>"
      ],
      "text/plain": [
       "         Выжили  Не выжили\n",
       "Класс 1   62.96      37.04\n",
       "Класс 2   47.28      52.72\n",
       "Класс 3   24.24      75.76"
      ]
     },
     "execution_count": 7,
     "metadata": {},
     "output_type": "execute_result"
    }
   ],
   "source": [
    "cros_df = (pd.crosstab(df['Pclass'], df['Survived'], margins=True)\n",
    "               .apply(lambda x: round(x / x.All * 100, 2), axis=1)).iloc[:-1, :-1][[1, 0]]\n",
    "cros_df.columns = ['Выжили', 'Не выжили']\n",
    "cros_df.index = ['Класс 1', 'Класс 2', 'Класс 3']\n",
    "cros_df"
   ]
  },
  {
   "cell_type": "code",
   "execution_count": 8,
   "id": "fd5c5ca8",
   "metadata": {},
   "outputs": [
    {
     "data": {
      "image/png": "[encoded data removed]",
      "text/plain": [
       "<Figure size 640x480 with 1 Axes>"
      ]
     },
     "metadata": {},
     "output_type": "display_data"
    }
   ],
   "source": [
    "with sns.axes_style('whitegrid'), sns.color_palette('rainbow'):\n",
    "    cros_df.plot.bar().set_title('Выжили/не выжили в %')"
   ]
  },
  {
   "cell_type": "code",
   "execution_count": 9,
   "id": "b39a0bcb",
   "metadata": {
    "scrolled": true
   },
   "outputs": [
    {
     "data": {
      "text/plain": [
       "3    491\n",
       "1    216\n",
       "2    184\n",
       "Name: Pclass, dtype: int64"
      ]
     },
     "execution_count": 9,
     "metadata": {},
     "output_type": "execute_result"
    }
   ],
   "source": [
    "df.Pclass.value_counts()"
   ]
  },
  {
   "cell_type": "code",
   "execution_count": 10,
   "id": "d76b6f28",
   "metadata": {
    "scrolled": true
   },
   "outputs": [
    {
     "data": {
      "image/png": "[encoded data removed]",
      "text/plain": [
       "<Figure size 640x480 with 1 Axes>"
      ]
     },
     "metadata": {},
     "output_type": "display_data"
    }
   ],
   "source": [
    "with sns.axes_style('whitegrid'), sns.color_palette('viridis'):\n",
    "    (df.Pclass.value_counts().plot.pie().legend(labels=[\"Класс 3\",\"Класс 1\",\"Класс 2\"],\n",
    "    loc='center right', bbox_to_anchor=(2.25, 0.5)).set_title('Распределение пассажиров по классам'))"
   ]
  },
  {
   "cell_type": "markdown",
   "id": "0d3179a6",
   "metadata": {},
   "source": [
    "### 3. Sex — пол"
   ]
  },
  {
   "cell_type": "markdown",
   "id": "68aaad6e",
   "metadata": {},
   "source": [
    "Среди пассажиров было 65% мужчин и 35 % женщин."
   ]
  },
  {
   "cell_type": "code",
   "execution_count": 11,
   "id": "3d7adbcb",
   "metadata": {
    "scrolled": true
   },
   "outputs": [
    {
     "data": {
      "text/plain": [
       "male      64.76\n",
       "female    35.24\n",
       "Name: Sex, dtype: float64"
      ]
     },
     "execution_count": 11,
     "metadata": {},
     "output_type": "execute_result"
    }
   ],
   "source": [
    "(df.Sex.value_counts(normalize=True) * 100).apply(lambda x: round(x, 2))"
   ]
  },
  {
   "cell_type": "markdown",
   "id": "85a8786d",
   "metadata": {},
   "source": [
    "**74% женщин**, из находящихся на борту, **выжили**, в то время как около **80% мужчин - погибли**."
   ]
  },
  {
   "cell_type": "code",
   "execution_count": 12,
   "id": "67a7d255",
   "metadata": {},
   "outputs": [
    {
     "data": {
      "text/html": [
       "<div>\n",
       "<style scoped>\n",
       "    .dataframe tbody tr th:only-of-type {\n",
       "        vertical-align: middle;\n",
       "    }\n",
       "\n",
       "    .dataframe tbody tr th {\n",
       "        vertical-align: top;\n",
       "    }\n",
       "\n",
       "    .dataframe thead th {\n",
       "        text-align: right;\n",
       "    }\n",
       "</style>\n",
       "<table border=\"1\" class=\"dataframe\">\n",
       "  <thead>\n",
       "    <tr style=\"text-align: right;\">\n",
       "      <th></th>\n",
       "      <th>Выжили</th>\n",
       "      <th>Не выжили</th>\n",
       "    </tr>\n",
       "  </thead>\n",
       "  <tbody>\n",
       "    <tr>\n",
       "      <th>Женщины</th>\n",
       "      <td>74.20</td>\n",
       "      <td>25.80</td>\n",
       "    </tr>\n",
       "    <tr>\n",
       "      <th>Мужчины</th>\n",
       "      <td>18.89</td>\n",
       "      <td>81.11</td>\n",
       "    </tr>\n",
       "  </tbody>\n",
       "</table>\n",
       "</div>"
      ],
      "text/plain": [
       "         Выжили  Не выжили\n",
       "Женщины   74.20      25.80\n",
       "Мужчины   18.89      81.11"
      ]
     },
     "execution_count": 12,
     "metadata": {},
     "output_type": "execute_result"
    }
   ],
   "source": [
    "cros_df = (pd.crosstab(df['Sex'], df['Survived'], margins=True)\n",
    "           .apply(lambda x: round(x / x.All * 100, 2), axis=1)).iloc[:-1, :-1][[1, 0]]\n",
    "cros_df.columns = ['Выжили', 'Не выжили']\n",
    "cros_df.index = ['Женщины', 'Мужчины']\n",
    "cros_df"
   ]
  },
  {
   "cell_type": "code",
   "execution_count": 13,
   "id": "c304262c",
   "metadata": {},
   "outputs": [
    {
     "data": {
      "image/png": "[encoded data removed]",
      "text/plain": [
       "<Figure size 640x480 with 1 Axes>"
      ]
     },
     "metadata": {},
     "output_type": "display_data"
    }
   ],
   "source": [
    "with sns.axes_style('whitegrid'), sns.color_palette('muted'):\n",
    "    cros_df.plot.bar().set_title('Выжили/не выжили в %\\n(женщины, мужчины)')"
   ]
  },
  {
   "cell_type": "markdown",
   "id": "907f674e",
   "metadata": {},
   "source": [
    "**60% мужчин находились в 3-ем классе**, отчасти это объясняет большой процент погибших среди мужчин"
   ]
  },
  {
   "cell_type": "code",
   "execution_count": 14,
   "id": "9da76cb0",
   "metadata": {},
   "outputs": [
    {
     "data": {
      "text/html": [
       "<div>\n",
       "<style scoped>\n",
       "    .dataframe tbody tr th:only-of-type {\n",
       "        vertical-align: middle;\n",
       "    }\n",
       "\n",
       "    .dataframe tbody tr th {\n",
       "        vertical-align: top;\n",
       "    }\n",
       "\n",
       "    .dataframe thead th {\n",
       "        text-align: right;\n",
       "    }\n",
       "</style>\n",
       "<table border=\"1\" class=\"dataframe\">\n",
       "  <thead>\n",
       "    <tr style=\"text-align: right;\">\n",
       "      <th></th>\n",
       "      <th>Класс 1</th>\n",
       "      <th>Класс 2</th>\n",
       "      <th>Класс 3</th>\n",
       "    </tr>\n",
       "  </thead>\n",
       "  <tbody>\n",
       "    <tr>\n",
       "      <th>Женщины</th>\n",
       "      <td>29.94</td>\n",
       "      <td>24.20</td>\n",
       "      <td>45.86</td>\n",
       "    </tr>\n",
       "    <tr>\n",
       "      <th>Мужчины</th>\n",
       "      <td>21.14</td>\n",
       "      <td>18.72</td>\n",
       "      <td>60.14</td>\n",
       "    </tr>\n",
       "  </tbody>\n",
       "</table>\n",
       "</div>"
      ],
      "text/plain": [
       "         Класс 1  Класс 2  Класс 3\n",
       "Женщины    29.94    24.20    45.86\n",
       "Мужчины    21.14    18.72    60.14"
      ]
     },
     "execution_count": 14,
     "metadata": {},
     "output_type": "execute_result"
    }
   ],
   "source": [
    "cros_df = (pd.crosstab(df['Sex'], df['Pclass'], margins=True)\n",
    "               .apply(lambda x: round(x / x.All * 100, 2), axis=1)).iloc[:-1, :-1]\n",
    "cros_df.index = ['Женщины', 'Мужчины']\n",
    "cros_df.columns = ['Класс 1', 'Класс 2', 'Класс 3']\n",
    "cros_df"
   ]
  },
  {
   "cell_type": "code",
   "execution_count": 15,
   "id": "be0beff1",
   "metadata": {},
   "outputs": [
    {
     "data": {
      "image/png": "[encoded data removed]",
      "text/plain": [
       "<Figure size 640x480 with 1 Axes>"
      ]
     },
     "metadata": {},
     "output_type": "display_data"
    }
   ],
   "source": [
    "with sns.axes_style('whitegrid'), sns.color_palette('muted'):\n",
    "    cros_df.plot.bar().set_title('Распределение \\nмужчин и женщин по классам (в %)')"
   ]
  },
  {
   "cell_type": "markdown",
   "id": "38ec660b",
   "metadata": {},
   "source": [
    "### 4. Age — возраст"
   ]
  },
  {
   "cell_type": "markdown",
   "id": "3585cf2b",
   "metadata": {},
   "source": [
    "Средний возраст пассажиров около 30 лет, а самому старшему было 80 лет."
   ]
  },
  {
   "cell_type": "code",
   "execution_count": 16,
   "id": "e024e207",
   "metadata": {},
   "outputs": [
    {
     "data": {
      "text/plain": [
       "mean    29.699118\n",
       "min      0.420000\n",
       "max     80.000000\n",
       "Name: Age, dtype: float64"
      ]
     },
     "execution_count": 16,
     "metadata": {},
     "output_type": "execute_result"
    }
   ],
   "source": [
    "df.Age.describe().loc[['mean', 'min', 'max']]"
   ]
  },
  {
   "cell_type": "markdown",
   "id": "08d834ed",
   "metadata": {},
   "source": [
    "Добавим колонку с диапазоном возрастов, разбив всех пассажиров на группы 0-10, 10-20, 20-30 ... 70-80 лет."
   ]
  },
  {
   "cell_type": "code",
   "execution_count": 17,
   "id": "6f972908",
   "metadata": {},
   "outputs": [],
   "source": [
    "df['Age_Range'] = pd.cut(df.Age, [0, 10, 20, 30, 40, 50, 60, 70, 80])"
   ]
  },
  {
   "cell_type": "code",
   "execution_count": 18,
   "id": "6d740206",
   "metadata": {},
   "outputs": [
    {
     "data": {
      "text/html": [
       "<div>\n",
       "<style scoped>\n",
       "    .dataframe tbody tr th:only-of-type {\n",
       "        vertical-align: middle;\n",
       "    }\n",
       "\n",
       "    .dataframe tbody tr th {\n",
       "        vertical-align: top;\n",
       "    }\n",
       "\n",
       "    .dataframe thead th {\n",
       "        text-align: right;\n",
       "    }\n",
       "</style>\n",
       "<table border=\"1\" class=\"dataframe\">\n",
       "  <thead>\n",
       "    <tr style=\"text-align: right;\">\n",
       "      <th></th>\n",
       "      <th>Погибли</th>\n",
       "      <th>Выжили</th>\n",
       "    </tr>\n",
       "    <tr>\n",
       "      <th>Возрастные группы</th>\n",
       "      <th></th>\n",
       "      <th></th>\n",
       "    </tr>\n",
       "  </thead>\n",
       "  <tbody>\n",
       "    <tr>\n",
       "      <th>(0, 10]</th>\n",
       "      <td>26</td>\n",
       "      <td>38</td>\n",
       "    </tr>\n",
       "    <tr>\n",
       "      <th>(10, 20]</th>\n",
       "      <td>71</td>\n",
       "      <td>44</td>\n",
       "    </tr>\n",
       "    <tr>\n",
       "      <th>(20, 30]</th>\n",
       "      <td>146</td>\n",
       "      <td>84</td>\n",
       "    </tr>\n",
       "    <tr>\n",
       "      <th>(30, 40]</th>\n",
       "      <td>86</td>\n",
       "      <td>69</td>\n",
       "    </tr>\n",
       "    <tr>\n",
       "      <th>(40, 50]</th>\n",
       "      <td>53</td>\n",
       "      <td>33</td>\n",
       "    </tr>\n",
       "    <tr>\n",
       "      <th>(50, 60]</th>\n",
       "      <td>25</td>\n",
       "      <td>17</td>\n",
       "    </tr>\n",
       "    <tr>\n",
       "      <th>(60, 70]</th>\n",
       "      <td>13</td>\n",
       "      <td>4</td>\n",
       "    </tr>\n",
       "    <tr>\n",
       "      <th>(70, 80]</th>\n",
       "      <td>4</td>\n",
       "      <td>1</td>\n",
       "    </tr>\n",
       "  </tbody>\n",
       "</table>\n",
       "</div>"
      ],
      "text/plain": [
       "                   Погибли  Выжили\n",
       "Возрастные группы                 \n",
       "(0, 10]                 26      38\n",
       "(10, 20]                71      44\n",
       "(20, 30]               146      84\n",
       "(30, 40]                86      69\n",
       "(40, 50]                53      33\n",
       "(50, 60]                25      17\n",
       "(60, 70]                13       4\n",
       "(70, 80]                 4       1"
      ]
     },
     "execution_count": 18,
     "metadata": {},
     "output_type": "execute_result"
    }
   ],
   "source": [
    "cros_df = pd.crosstab(df['Age_Range'], df['Survived'])\n",
    "cros_df.columns = ['Погибли', 'Выжили']\n",
    "cros_df.index.name = 'Возрастные группы'\n",
    "cros_df"
   ]
  },
  {
   "cell_type": "code",
   "execution_count": 19,
   "id": "f6d92527",
   "metadata": {
    "scrolled": true
   },
   "outputs": [
    {
     "data": {
      "image/png": "[encoded data removed]",
      "text/plain": [
       "<Figure size 640x480 with 1 Axes>"
      ]
     },
     "metadata": {},
     "output_type": "display_data"
    }
   ],
   "source": [
    "with sns.axes_style('whitegrid'), sns.color_palette('muted'):\n",
    "    cros_df.plot.bar()"
   ]
  },
  {
   "cell_type": "code",
   "execution_count": 20,
   "id": "f5e80072",
   "metadata": {},
   "outputs": [
    {
     "data": {
      "text/html": [
       "<div>\n",
       "<style scoped>\n",
       "    .dataframe tbody tr th:only-of-type {\n",
       "        vertical-align: middle;\n",
       "    }\n",
       "\n",
       "    .dataframe tbody tr th {\n",
       "        vertical-align: top;\n",
       "    }\n",
       "\n",
       "    .dataframe thead th {\n",
       "        text-align: right;\n",
       "    }\n",
       "</style>\n",
       "<table border=\"1\" class=\"dataframe\">\n",
       "  <thead>\n",
       "    <tr style=\"text-align: right;\">\n",
       "      <th></th>\n",
       "      <th>Класс 1</th>\n",
       "      <th>Класс 2</th>\n",
       "      <th>Класс 3</th>\n",
       "    </tr>\n",
       "    <tr>\n",
       "      <th>Возрастные группы</th>\n",
       "      <th></th>\n",
       "      <th></th>\n",
       "      <th></th>\n",
       "    </tr>\n",
       "  </thead>\n",
       "  <tbody>\n",
       "    <tr>\n",
       "      <th>(0, 10]</th>\n",
       "      <td>4.69</td>\n",
       "      <td>26.56</td>\n",
       "      <td>68.75</td>\n",
       "    </tr>\n",
       "    <tr>\n",
       "      <th>(10, 20]</th>\n",
       "      <td>15.65</td>\n",
       "      <td>15.65</td>\n",
       "      <td>68.70</td>\n",
       "    </tr>\n",
       "    <tr>\n",
       "      <th>(20, 30]</th>\n",
       "      <td>17.39</td>\n",
       "      <td>26.52</td>\n",
       "      <td>56.09</td>\n",
       "    </tr>\n",
       "    <tr>\n",
       "      <th>(30, 40]</th>\n",
       "      <td>31.61</td>\n",
       "      <td>27.74</td>\n",
       "      <td>40.65</td>\n",
       "    </tr>\n",
       "    <tr>\n",
       "      <th>(40, 50]</th>\n",
       "      <td>43.02</td>\n",
       "      <td>22.09</td>\n",
       "      <td>34.88</td>\n",
       "    </tr>\n",
       "    <tr>\n",
       "      <th>(50, 60]</th>\n",
       "      <td>59.52</td>\n",
       "      <td>28.57</td>\n",
       "      <td>11.90</td>\n",
       "    </tr>\n",
       "    <tr>\n",
       "      <th>(60, 70]</th>\n",
       "      <td>64.71</td>\n",
       "      <td>17.65</td>\n",
       "      <td>17.65</td>\n",
       "    </tr>\n",
       "    <tr>\n",
       "      <th>(70, 80]</th>\n",
       "      <td>60.00</td>\n",
       "      <td>0.00</td>\n",
       "      <td>40.00</td>\n",
       "    </tr>\n",
       "  </tbody>\n",
       "</table>\n",
       "</div>"
      ],
      "text/plain": [
       "                   Класс 1  Класс 2  Класс 3\n",
       "Возрастные группы                           \n",
       "(0, 10]               4.69    26.56    68.75\n",
       "(10, 20]             15.65    15.65    68.70\n",
       "(20, 30]             17.39    26.52    56.09\n",
       "(30, 40]             31.61    27.74    40.65\n",
       "(40, 50]             43.02    22.09    34.88\n",
       "(50, 60]             59.52    28.57    11.90\n",
       "(60, 70]             64.71    17.65    17.65\n",
       "(70, 80]             60.00     0.00    40.00"
      ]
     },
     "execution_count": 20,
     "metadata": {},
     "output_type": "execute_result"
    }
   ],
   "source": [
    "cros_df = (pd.crosstab(df['Age_Range'], df['Pclass'], margins=True)\n",
    "          .apply(lambda x: round(x / x.All * 100, 2), axis=1)).iloc[:-1, :-1]\n",
    "cros_df.columns = ['Класс 1', 'Класс 2', 'Класс 3']\n",
    "cros_df.index.name = 'Возрастные группы'\n",
    "cros_df"
   ]
  },
  {
   "cell_type": "code",
   "execution_count": 21,
   "id": "bbdbba4b",
   "metadata": {},
   "outputs": [
    {
     "data": {
      "image/png": "[encoded data removed]",
      "text/plain": [
       "<Figure size 640x480 with 1 Axes>"
      ]
     },
     "metadata": {},
     "output_type": "display_data"
    }
   ],
   "source": [
    "with sns.axes_style('whitegrid'), sns.color_palette('muted'):\n",
    "    cros_df.plot.bar()"
   ]
  },
  {
   "cell_type": "markdown",
   "id": "b7cd19f2",
   "metadata": {},
   "source": [
    "Распределение возрастных групп по классам в %"
   ]
  },
  {
   "cell_type": "code",
   "execution_count": 22,
   "id": "bcfb4c4d",
   "metadata": {
    "scrolled": true
   },
   "outputs": [
    {
     "data": {
      "text/html": [
       "<div>\n",
       "<style scoped>\n",
       "    .dataframe tbody tr th:only-of-type {\n",
       "        vertical-align: middle;\n",
       "    }\n",
       "\n",
       "    .dataframe tbody tr th {\n",
       "        vertical-align: top;\n",
       "    }\n",
       "\n",
       "    .dataframe thead th {\n",
       "        text-align: right;\n",
       "    }\n",
       "</style>\n",
       "<table border=\"1\" class=\"dataframe\">\n",
       "  <thead>\n",
       "    <tr style=\"text-align: right;\">\n",
       "      <th>Возрастные группы</th>\n",
       "      <th>(0, 10]</th>\n",
       "      <th>(10, 20]</th>\n",
       "      <th>(20, 30]</th>\n",
       "      <th>(30, 40]</th>\n",
       "      <th>(40, 50]</th>\n",
       "      <th>(50, 60]</th>\n",
       "      <th>(60, 70]</th>\n",
       "      <th>(70, 80]</th>\n",
       "    </tr>\n",
       "  </thead>\n",
       "  <tbody>\n",
       "    <tr>\n",
       "      <th>Класс 1</th>\n",
       "      <td>1.61</td>\n",
       "      <td>9.68</td>\n",
       "      <td>21.51</td>\n",
       "      <td>26.34</td>\n",
       "      <td>19.89</td>\n",
       "      <td>13.44</td>\n",
       "      <td>5.91</td>\n",
       "      <td>1.61</td>\n",
       "    </tr>\n",
       "    <tr>\n",
       "      <th>Класс 2</th>\n",
       "      <td>9.83</td>\n",
       "      <td>10.40</td>\n",
       "      <td>35.26</td>\n",
       "      <td>24.86</td>\n",
       "      <td>10.98</td>\n",
       "      <td>6.94</td>\n",
       "      <td>1.73</td>\n",
       "      <td>0.00</td>\n",
       "    </tr>\n",
       "    <tr>\n",
       "      <th>Класс 3</th>\n",
       "      <td>12.39</td>\n",
       "      <td>22.25</td>\n",
       "      <td>36.34</td>\n",
       "      <td>17.75</td>\n",
       "      <td>8.45</td>\n",
       "      <td>1.41</td>\n",
       "      <td>0.85</td>\n",
       "      <td>0.56</td>\n",
       "    </tr>\n",
       "  </tbody>\n",
       "</table>\n",
       "</div>"
      ],
      "text/plain": [
       "Возрастные группы  (0, 10]  (10, 20]  (20, 30]  (30, 40]  (40, 50]  (50, 60]  \\\n",
       "Класс 1               1.61      9.68     21.51     26.34     19.89     13.44   \n",
       "Класс 2               9.83     10.40     35.26     24.86     10.98      6.94   \n",
       "Класс 3              12.39     22.25     36.34     17.75      8.45      1.41   \n",
       "\n",
       "Возрастные группы  (60, 70]  (70, 80]  \n",
       "Класс 1                5.91      1.61  \n",
       "Класс 2                1.73      0.00  \n",
       "Класс 3                0.85      0.56  "
      ]
     },
     "execution_count": 22,
     "metadata": {},
     "output_type": "execute_result"
    }
   ],
   "source": [
    "cros_df = (pd.crosstab(df['Pclass'], df['Age_Range'], margins=True)\n",
    "          .apply(lambda x: round(x / x.All * 100, 2), axis=1)).iloc[:-1, :-1]\n",
    "cros_df.index = ['Класс 1', 'Класс 2', 'Класс 3']\n",
    "cros_df.columns.name = 'Возрастные группы'\n",
    "cros_df"
   ]
  },
  {
   "cell_type": "code",
   "execution_count": 23,
   "id": "2989b0e9",
   "metadata": {
    "scrolled": true
   },
   "outputs": [
    {
     "data": {
      "image/png": "[encoded data removed]",
      "text/plain": [
       "<Figure size 640x480 with 1 Axes>"
      ]
     },
     "metadata": {},
     "output_type": "display_data"
    }
   ],
   "source": [
    "with sns.axes_style('whitegrid'), sns.color_palette('bright'):\n",
    "    cros_df.plot.bar().legend(loc='center right', bbox_to_anchor=(2.25, 0.5)).set_title('Возрастные группы')"
   ]
  },
  {
   "cell_type": "markdown",
   "id": "105b1851",
   "metadata": {},
   "source": [
    "### 5. SibSp — количество братьев, сестер, сводных братьев, сводных сестер, супругов на борту титаника"
   ]
  },
  {
   "cell_type": "markdown",
   "id": "96837d1b",
   "metadata": {},
   "source": [
    "Более 90% пассажиров путешествовали в одиночку или вдвоем"
   ]
  },
  {
   "cell_type": "code",
   "execution_count": 24,
   "id": "491e9899",
   "metadata": {},
   "outputs": [
    {
     "data": {
      "text/plain": [
       "0    68.24\n",
       "1    23.46\n",
       "2     3.14\n",
       "4     2.02\n",
       "3     1.80\n",
       "8     0.79\n",
       "5     0.56\n",
       "Name: SibSp, dtype: float64"
      ]
     },
     "execution_count": 24,
     "metadata": {},
     "output_type": "execute_result"
    }
   ],
   "source": [
    "df.SibSp.value_counts(normalize=True).apply(lambda x: round(x * 100, 2))"
   ]
  },
  {
   "cell_type": "markdown",
   "id": "525f97b6",
   "metadata": {},
   "source": [
    "С ростом SibSp шансы на спасение снижались"
   ]
  },
  {
   "cell_type": "code",
   "execution_count": 25,
   "id": "5403ca06",
   "metadata": {},
   "outputs": [
    {
     "data": {
      "text/html": [
       "<div>\n",
       "<style scoped>\n",
       "    .dataframe tbody tr th:only-of-type {\n",
       "        vertical-align: middle;\n",
       "    }\n",
       "\n",
       "    .dataframe tbody tr th {\n",
       "        vertical-align: top;\n",
       "    }\n",
       "\n",
       "    .dataframe thead th {\n",
       "        text-align: right;\n",
       "    }\n",
       "</style>\n",
       "<table border=\"1\" class=\"dataframe\">\n",
       "  <thead>\n",
       "    <tr style=\"text-align: right;\">\n",
       "      <th></th>\n",
       "      <th>Погибли в %</th>\n",
       "      <th>Спаслись в %</th>\n",
       "    </tr>\n",
       "    <tr>\n",
       "      <th>SibSp</th>\n",
       "      <th></th>\n",
       "      <th></th>\n",
       "    </tr>\n",
       "  </thead>\n",
       "  <tbody>\n",
       "    <tr>\n",
       "      <th>0</th>\n",
       "      <td>65.46</td>\n",
       "      <td>34.54</td>\n",
       "    </tr>\n",
       "    <tr>\n",
       "      <th>1</th>\n",
       "      <td>46.41</td>\n",
       "      <td>53.59</td>\n",
       "    </tr>\n",
       "    <tr>\n",
       "      <th>2</th>\n",
       "      <td>53.57</td>\n",
       "      <td>46.43</td>\n",
       "    </tr>\n",
       "    <tr>\n",
       "      <th>3</th>\n",
       "      <td>75.00</td>\n",
       "      <td>25.00</td>\n",
       "    </tr>\n",
       "    <tr>\n",
       "      <th>4</th>\n",
       "      <td>83.33</td>\n",
       "      <td>16.67</td>\n",
       "    </tr>\n",
       "    <tr>\n",
       "      <th>5</th>\n",
       "      <td>100.00</td>\n",
       "      <td>0.00</td>\n",
       "    </tr>\n",
       "    <tr>\n",
       "      <th>8</th>\n",
       "      <td>100.00</td>\n",
       "      <td>0.00</td>\n",
       "    </tr>\n",
       "  </tbody>\n",
       "</table>\n",
       "</div>"
      ],
      "text/plain": [
       "       Погибли в %  Спаслись в %\n",
       "SibSp                           \n",
       "0            65.46         34.54\n",
       "1            46.41         53.59\n",
       "2            53.57         46.43\n",
       "3            75.00         25.00\n",
       "4            83.33         16.67\n",
       "5           100.00          0.00\n",
       "8           100.00          0.00"
      ]
     },
     "execution_count": 25,
     "metadata": {},
     "output_type": "execute_result"
    }
   ],
   "source": [
    "cros_df = (pd.crosstab(df['SibSp'], df['Survived'], margins=True)\n",
    "          .apply(lambda x: round(x / x.All * 100, 2), axis=1)).iloc[:-1, :-1]\n",
    "cros_df.columns = ['Погибли в %', 'Спаслись в %']\n",
    "cros_df"
   ]
  },
  {
   "cell_type": "markdown",
   "id": "dc719753",
   "metadata": {},
   "source": [
    "### 6. Parch — количество родителей, детей (в том числе приемных) на борту титаника"
   ]
  },
  {
   "cell_type": "code",
   "execution_count": 26,
   "id": "6db91b1c",
   "metadata": {},
   "outputs": [
    {
     "data": {
      "text/html": [
       "<div>\n",
       "<style scoped>\n",
       "    .dataframe tbody tr th:only-of-type {\n",
       "        vertical-align: middle;\n",
       "    }\n",
       "\n",
       "    .dataframe tbody tr th {\n",
       "        vertical-align: top;\n",
       "    }\n",
       "\n",
       "    .dataframe thead th {\n",
       "        text-align: right;\n",
       "    }\n",
       "</style>\n",
       "<table border=\"1\" class=\"dataframe\">\n",
       "  <thead>\n",
       "    <tr style=\"text-align: right;\">\n",
       "      <th></th>\n",
       "      <th>Погибли в %</th>\n",
       "      <th>Спаслись в %</th>\n",
       "    </tr>\n",
       "    <tr>\n",
       "      <th>Parch</th>\n",
       "      <th></th>\n",
       "      <th></th>\n",
       "    </tr>\n",
       "  </thead>\n",
       "  <tbody>\n",
       "    <tr>\n",
       "      <th>0</th>\n",
       "      <td>65.63</td>\n",
       "      <td>34.37</td>\n",
       "    </tr>\n",
       "    <tr>\n",
       "      <th>1</th>\n",
       "      <td>44.92</td>\n",
       "      <td>55.08</td>\n",
       "    </tr>\n",
       "    <tr>\n",
       "      <th>2</th>\n",
       "      <td>50.00</td>\n",
       "      <td>50.00</td>\n",
       "    </tr>\n",
       "    <tr>\n",
       "      <th>3</th>\n",
       "      <td>40.00</td>\n",
       "      <td>60.00</td>\n",
       "    </tr>\n",
       "    <tr>\n",
       "      <th>4</th>\n",
       "      <td>100.00</td>\n",
       "      <td>0.00</td>\n",
       "    </tr>\n",
       "    <tr>\n",
       "      <th>5</th>\n",
       "      <td>80.00</td>\n",
       "      <td>20.00</td>\n",
       "    </tr>\n",
       "    <tr>\n",
       "      <th>6</th>\n",
       "      <td>100.00</td>\n",
       "      <td>0.00</td>\n",
       "    </tr>\n",
       "  </tbody>\n",
       "</table>\n",
       "</div>"
      ],
      "text/plain": [
       "       Погибли в %  Спаслись в %\n",
       "Parch                           \n",
       "0            65.63         34.37\n",
       "1            44.92         55.08\n",
       "2            50.00         50.00\n",
       "3            40.00         60.00\n",
       "4           100.00          0.00\n",
       "5            80.00         20.00\n",
       "6           100.00          0.00"
      ]
     },
     "execution_count": 26,
     "metadata": {},
     "output_type": "execute_result"
    }
   ],
   "source": [
    "cros_df = (pd.crosstab(df['Parch'], df['Survived'], margins=True)\n",
    "          .apply(lambda x: round(x / x.All * 100, 2), axis=1)).iloc[:-1, :-1]\n",
    "cros_df.columns = ['Погибли в %', 'Спаслись в %']\n",
    "cros_df"
   ]
  },
  {
   "cell_type": "markdown",
   "id": "168c268d",
   "metadata": {},
   "source": [
    "Создадим признак 'Family' и проанализируем его влияние на шансы на спасение"
   ]
  },
  {
   "cell_type": "code",
   "execution_count": 27,
   "id": "54f7ca52",
   "metadata": {},
   "outputs": [],
   "source": [
    "df['Family'] = df['SibSp'] + df['Parch']"
   ]
  },
  {
   "cell_type": "markdown",
   "id": "9728d800",
   "metadata": {},
   "source": [
    "Шансы на спасение были значительно выше у тех, кто имел на борту не более 3 членов семьи"
   ]
  },
  {
   "cell_type": "code",
   "execution_count": 28,
   "id": "ba464bda",
   "metadata": {},
   "outputs": [
    {
     "data": {
      "text/html": [
       "<div>\n",
       "<style scoped>\n",
       "    .dataframe tbody tr th:only-of-type {\n",
       "        vertical-align: middle;\n",
       "    }\n",
       "\n",
       "    .dataframe tbody tr th {\n",
       "        vertical-align: top;\n",
       "    }\n",
       "\n",
       "    .dataframe thead th {\n",
       "        text-align: right;\n",
       "    }\n",
       "</style>\n",
       "<table border=\"1\" class=\"dataframe\">\n",
       "  <thead>\n",
       "    <tr style=\"text-align: right;\">\n",
       "      <th></th>\n",
       "      <th>Погибли в %</th>\n",
       "      <th>Спаслись в %</th>\n",
       "    </tr>\n",
       "    <tr>\n",
       "      <th>Family</th>\n",
       "      <th></th>\n",
       "      <th></th>\n",
       "    </tr>\n",
       "  </thead>\n",
       "  <tbody>\n",
       "    <tr>\n",
       "      <th>0</th>\n",
       "      <td>69.65</td>\n",
       "      <td>30.35</td>\n",
       "    </tr>\n",
       "    <tr>\n",
       "      <th>1</th>\n",
       "      <td>44.72</td>\n",
       "      <td>55.28</td>\n",
       "    </tr>\n",
       "    <tr>\n",
       "      <th>2</th>\n",
       "      <td>42.16</td>\n",
       "      <td>57.84</td>\n",
       "    </tr>\n",
       "    <tr>\n",
       "      <th>3</th>\n",
       "      <td>27.59</td>\n",
       "      <td>72.41</td>\n",
       "    </tr>\n",
       "    <tr>\n",
       "      <th>4</th>\n",
       "      <td>80.00</td>\n",
       "      <td>20.00</td>\n",
       "    </tr>\n",
       "    <tr>\n",
       "      <th>5</th>\n",
       "      <td>86.36</td>\n",
       "      <td>13.64</td>\n",
       "    </tr>\n",
       "    <tr>\n",
       "      <th>6</th>\n",
       "      <td>66.67</td>\n",
       "      <td>33.33</td>\n",
       "    </tr>\n",
       "    <tr>\n",
       "      <th>7</th>\n",
       "      <td>100.00</td>\n",
       "      <td>0.00</td>\n",
       "    </tr>\n",
       "    <tr>\n",
       "      <th>10</th>\n",
       "      <td>100.00</td>\n",
       "      <td>0.00</td>\n",
       "    </tr>\n",
       "  </tbody>\n",
       "</table>\n",
       "</div>"
      ],
      "text/plain": [
       "        Погибли в %  Спаслись в %\n",
       "Family                           \n",
       "0             69.65         30.35\n",
       "1             44.72         55.28\n",
       "2             42.16         57.84\n",
       "3             27.59         72.41\n",
       "4             80.00         20.00\n",
       "5             86.36         13.64\n",
       "6             66.67         33.33\n",
       "7            100.00          0.00\n",
       "10           100.00          0.00"
      ]
     },
     "execution_count": 28,
     "metadata": {},
     "output_type": "execute_result"
    }
   ],
   "source": [
    "cros_df = (pd.crosstab(df['Family'], df['Survived'], margins=True)\n",
    "          .apply(lambda x: round(x / x.All * 100, 2), axis=1)).iloc[:-1, :-1]\n",
    "cros_df.columns = ['Погибли в %', 'Спаслись в %']\n",
    "cros_df"
   ]
  },
  {
   "cell_type": "markdown",
   "id": "03a427d8",
   "metadata": {},
   "source": [
    "Добавим аттрибут большой семьи"
   ]
  },
  {
   "cell_type": "code",
   "execution_count": 29,
   "id": "ce6a48bf",
   "metadata": {},
   "outputs": [],
   "source": [
    "df['Big_Family'] = df.Family > 3"
   ]
  },
  {
   "cell_type": "markdown",
   "id": "99e8be4b",
   "metadata": {},
   "source": [
    "### 7. Embarked — порт посадки\n",
    "\n",
    "**(C — Шербур; Q — Квинстаун; S — Саутгемптон)**"
   ]
  },
  {
   "cell_type": "markdown",
   "id": "e43606ba",
   "metadata": {},
   "source": [
    "Люди, севшие на пароход в Шербуре, имели более высокие шансы на спасение"
   ]
  },
  {
   "cell_type": "code",
   "execution_count": 30,
   "id": "9d63c89e",
   "metadata": {},
   "outputs": [
    {
     "data": {
      "text/html": [
       "<div>\n",
       "<style scoped>\n",
       "    .dataframe tbody tr th:only-of-type {\n",
       "        vertical-align: middle;\n",
       "    }\n",
       "\n",
       "    .dataframe tbody tr th {\n",
       "        vertical-align: top;\n",
       "    }\n",
       "\n",
       "    .dataframe thead th {\n",
       "        text-align: right;\n",
       "    }\n",
       "</style>\n",
       "<table border=\"1\" class=\"dataframe\">\n",
       "  <thead>\n",
       "    <tr style=\"text-align: right;\">\n",
       "      <th></th>\n",
       "      <th>Погибли в %</th>\n",
       "      <th>Спаслись в %</th>\n",
       "    </tr>\n",
       "    <tr>\n",
       "      <th>Порт посадки</th>\n",
       "      <th></th>\n",
       "      <th></th>\n",
       "    </tr>\n",
       "  </thead>\n",
       "  <tbody>\n",
       "    <tr>\n",
       "      <th>Шербур</th>\n",
       "      <td>44.64</td>\n",
       "      <td>55.36</td>\n",
       "    </tr>\n",
       "    <tr>\n",
       "      <th>Квинстаун</th>\n",
       "      <td>61.04</td>\n",
       "      <td>38.96</td>\n",
       "    </tr>\n",
       "    <tr>\n",
       "      <th>Саутгемптон</th>\n",
       "      <td>66.30</td>\n",
       "      <td>33.70</td>\n",
       "    </tr>\n",
       "  </tbody>\n",
       "</table>\n",
       "</div>"
      ],
      "text/plain": [
       "              Погибли в %  Спаслись в %\n",
       "Порт посадки                           \n",
       "Шербур              44.64         55.36\n",
       "Квинстаун           61.04         38.96\n",
       "Саутгемптон         66.30         33.70"
      ]
     },
     "execution_count": 30,
     "metadata": {},
     "output_type": "execute_result"
    }
   ],
   "source": [
    "cros_df = (pd.crosstab(df['Embarked'], df['Survived'], margins=True)\n",
    "          .apply(lambda x: round(x / x.All * 100, 2), axis=1)).iloc[:-1, :-1]\n",
    "cros_df.columns = ['Погибли в %', 'Спаслись в %']\n",
    "cros_df.index = ['Шербур', 'Квинстаун', 'Саутгемптон']\n",
    "cros_df.index.name = 'Порт посадки'\n",
    "cros_df"
   ]
  },
  {
   "cell_type": "markdown",
   "id": "374c0a8c",
   "metadata": {},
   "source": [
    "## Заполнение пропусков"
   ]
  },
  {
   "cell_type": "code",
   "execution_count": 31,
   "id": "d45f93ed",
   "metadata": {
    "scrolled": false
   },
   "outputs": [],
   "source": [
    "df_cabin_na = pd.DataFrame({'Pclass': df[df['Cabin'].isna()]['Pclass'].value_counts(), 'All_Pclass': df.Pclass.value_counts()})"
   ]
  },
  {
   "cell_type": "markdown",
   "id": "2b909f25",
   "metadata": {},
   "source": [
    "Более 90% записей не имеют информацию о номере каюты"
   ]
  },
  {
   "cell_type": "code",
   "execution_count": 32,
   "id": "28ef37a2",
   "metadata": {
    "scrolled": true
   },
   "outputs": [
    {
     "data": {
      "text/html": [
       "<div>\n",
       "<style scoped>\n",
       "    .dataframe tbody tr th:only-of-type {\n",
       "        vertical-align: middle;\n",
       "    }\n",
       "\n",
       "    .dataframe tbody tr th {\n",
       "        vertical-align: top;\n",
       "    }\n",
       "\n",
       "    .dataframe thead th {\n",
       "        text-align: right;\n",
       "    }\n",
       "</style>\n",
       "<table border=\"1\" class=\"dataframe\">\n",
       "  <thead>\n",
       "    <tr style=\"text-align: right;\">\n",
       "      <th></th>\n",
       "      <th>Pclass</th>\n",
       "      <th>All_Pclass</th>\n",
       "      <th>na</th>\n",
       "    </tr>\n",
       "  </thead>\n",
       "  <tbody>\n",
       "    <tr>\n",
       "      <th>1</th>\n",
       "      <td>40</td>\n",
       "      <td>216</td>\n",
       "      <td>18.52</td>\n",
       "    </tr>\n",
       "    <tr>\n",
       "      <th>2</th>\n",
       "      <td>168</td>\n",
       "      <td>184</td>\n",
       "      <td>91.30</td>\n",
       "    </tr>\n",
       "    <tr>\n",
       "      <th>3</th>\n",
       "      <td>479</td>\n",
       "      <td>491</td>\n",
       "      <td>97.56</td>\n",
       "    </tr>\n",
       "  </tbody>\n",
       "</table>\n",
       "</div>"
      ],
      "text/plain": [
       "   Pclass  All_Pclass     na\n",
       "1      40         216  18.52\n",
       "2     168         184  91.30\n",
       "3     479         491  97.56"
      ]
     },
     "execution_count": 32,
     "metadata": {},
     "output_type": "execute_result"
    }
   ],
   "source": [
    "df_cabin_na['na'] = round(df_cabin_na.Pclass / df_cabin_na.All_Pclass * 100, 2)\n",
    "df_cabin_na"
   ]
  },
  {
   "cell_type": "markdown",
   "id": "ba306b7b",
   "metadata": {},
   "source": [
    "Я решил удалить признак 'Cabin', а также 'Name', 'Fare', 'Ticket', 'SibSp', 'Parch', 'Age', 'Age_Range', 'Embarked'."
   ]
  },
  {
   "cell_type": "code",
   "execution_count": 33,
   "id": "9d08edfb",
   "metadata": {
    "scrolled": false
   },
   "outputs": [],
   "source": [
    "# df.drop(['Cabin', 'Name', 'Fare', 'Ticket', 'SibSp', 'Parch', 'Age', 'Age_Range', 'Embarked'], axis=1, inplace=True)"
   ]
  },
  {
   "cell_type": "code",
   "execution_count": 34,
   "id": "cdf5df5b",
   "metadata": {
    "scrolled": true
   },
   "outputs": [
    {
     "name": "stdout",
     "output_type": "stream",
     "text": [
      "<class 'pandas.core.frame.DataFrame'>\n",
      "Int64Index: 891 entries, 1 to 891\n",
      "Data columns (total 14 columns):\n",
      " #   Column      Non-Null Count  Dtype   \n",
      "---  ------      --------------  -----   \n",
      " 0   Survived    891 non-null    int64   \n",
      " 1   Pclass      891 non-null    int64   \n",
      " 2   Name        891 non-null    object  \n",
      " 3   Sex         891 non-null    object  \n",
      " 4   Age         714 non-null    float64 \n",
      " 5   SibSp       891 non-null    int64   \n",
      " 6   Parch       891 non-null    int64   \n",
      " 7   Ticket      891 non-null    object  \n",
      " 8   Fare        891 non-null    float64 \n",
      " 9   Cabin       204 non-null    object  \n",
      " 10  Embarked    889 non-null    object  \n",
      " 11  Age_Range   714 non-null    category\n",
      " 12  Family      891 non-null    int64   \n",
      " 13  Big_Family  891 non-null    bool    \n",
      "dtypes: bool(1), category(1), float64(2), int64(5), object(5)\n",
      "memory usage: 92.7+ KB\n"
     ]
    }
   ],
   "source": [
    "df.info()"
   ]
  },
  {
   "cell_type": "code",
   "execution_count": 35,
   "id": "ffb8491a",
   "metadata": {},
   "outputs": [
    {
     "data": {
      "text/html": [
       "<div>\n",
       "<style scoped>\n",
       "    .dataframe tbody tr th:only-of-type {\n",
       "        vertical-align: middle;\n",
       "    }\n",
       "\n",
       "    .dataframe tbody tr th {\n",
       "        vertical-align: top;\n",
       "    }\n",
       "\n",
       "    .dataframe thead th {\n",
       "        text-align: right;\n",
       "    }\n",
       "</style>\n",
       "<table border=\"1\" class=\"dataframe\">\n",
       "  <thead>\n",
       "    <tr style=\"text-align: right;\">\n",
       "      <th></th>\n",
       "      <th>Survived</th>\n",
       "      <th>Pclass</th>\n",
       "      <th>Age</th>\n",
       "      <th>SibSp</th>\n",
       "      <th>Parch</th>\n",
       "      <th>Fare</th>\n",
       "      <th>Family</th>\n",
       "      <th>Big_Family</th>\n",
       "    </tr>\n",
       "  </thead>\n",
       "  <tbody>\n",
       "    <tr>\n",
       "      <th>Survived</th>\n",
       "      <td>1.000000</td>\n",
       "      <td>-0.338481</td>\n",
       "      <td>-0.077221</td>\n",
       "      <td>-0.035322</td>\n",
       "      <td>0.081629</td>\n",
       "      <td>0.257307</td>\n",
       "      <td>0.016639</td>\n",
       "      <td>-0.125147</td>\n",
       "    </tr>\n",
       "    <tr>\n",
       "      <th>Pclass</th>\n",
       "      <td>-0.338481</td>\n",
       "      <td>1.000000</td>\n",
       "      <td>-0.369226</td>\n",
       "      <td>0.083081</td>\n",
       "      <td>0.018443</td>\n",
       "      <td>-0.549500</td>\n",
       "      <td>0.065997</td>\n",
       "      <td>0.152366</td>\n",
       "    </tr>\n",
       "    <tr>\n",
       "      <th>Age</th>\n",
       "      <td>-0.077221</td>\n",
       "      <td>-0.369226</td>\n",
       "      <td>1.000000</td>\n",
       "      <td>-0.308247</td>\n",
       "      <td>-0.189119</td>\n",
       "      <td>0.096067</td>\n",
       "      <td>-0.301914</td>\n",
       "      <td>-0.226521</td>\n",
       "    </tr>\n",
       "    <tr>\n",
       "      <th>SibSp</th>\n",
       "      <td>-0.035322</td>\n",
       "      <td>0.083081</td>\n",
       "      <td>-0.308247</td>\n",
       "      <td>1.000000</td>\n",
       "      <td>0.414838</td>\n",
       "      <td>0.159651</td>\n",
       "      <td>0.890712</td>\n",
       "      <td>0.730691</td>\n",
       "    </tr>\n",
       "    <tr>\n",
       "      <th>Parch</th>\n",
       "      <td>0.081629</td>\n",
       "      <td>0.018443</td>\n",
       "      <td>-0.189119</td>\n",
       "      <td>0.414838</td>\n",
       "      <td>1.000000</td>\n",
       "      <td>0.216225</td>\n",
       "      <td>0.783111</td>\n",
       "      <td>0.631523</td>\n",
       "    </tr>\n",
       "    <tr>\n",
       "      <th>Fare</th>\n",
       "      <td>0.257307</td>\n",
       "      <td>-0.549500</td>\n",
       "      <td>0.096067</td>\n",
       "      <td>0.159651</td>\n",
       "      <td>0.216225</td>\n",
       "      <td>1.000000</td>\n",
       "      <td>0.217138</td>\n",
       "      <td>0.143636</td>\n",
       "    </tr>\n",
       "    <tr>\n",
       "      <th>Family</th>\n",
       "      <td>0.016639</td>\n",
       "      <td>0.065997</td>\n",
       "      <td>-0.301914</td>\n",
       "      <td>0.890712</td>\n",
       "      <td>0.783111</td>\n",
       "      <td>0.217138</td>\n",
       "      <td>1.000000</td>\n",
       "      <td>0.814901</td>\n",
       "    </tr>\n",
       "    <tr>\n",
       "      <th>Big_Family</th>\n",
       "      <td>-0.125147</td>\n",
       "      <td>0.152366</td>\n",
       "      <td>-0.226521</td>\n",
       "      <td>0.730691</td>\n",
       "      <td>0.631523</td>\n",
       "      <td>0.143636</td>\n",
       "      <td>0.814901</td>\n",
       "      <td>1.000000</td>\n",
       "    </tr>\n",
       "  </tbody>\n",
       "</table>\n",
       "</div>"
      ],
      "text/plain": [
       "            Survived    Pclass       Age     SibSp     Parch      Fare  \\\n",
       "Survived    1.000000 -0.338481 -0.077221 -0.035322  0.081629  0.257307   \n",
       "Pclass     -0.338481  1.000000 -0.369226  0.083081  0.018443 -0.549500   \n",
       "Age        -0.077221 -0.369226  1.000000 -0.308247 -0.189119  0.096067   \n",
       "SibSp      -0.035322  0.083081 -0.308247  1.000000  0.414838  0.159651   \n",
       "Parch       0.081629  0.018443 -0.189119  0.414838  1.000000  0.216225   \n",
       "Fare        0.257307 -0.549500  0.096067  0.159651  0.216225  1.000000   \n",
       "Family      0.016639  0.065997 -0.301914  0.890712  0.783111  0.217138   \n",
       "Big_Family -0.125147  0.152366 -0.226521  0.730691  0.631523  0.143636   \n",
       "\n",
       "              Family  Big_Family  \n",
       "Survived    0.016639   -0.125147  \n",
       "Pclass      0.065997    0.152366  \n",
       "Age        -0.301914   -0.226521  \n",
       "SibSp       0.890712    0.730691  \n",
       "Parch       0.783111    0.631523  \n",
       "Fare        0.217138    0.143636  \n",
       "Family      1.000000    0.814901  \n",
       "Big_Family  0.814901    1.000000  "
      ]
     },
     "execution_count": 35,
     "metadata": {},
     "output_type": "execute_result"
    }
   ],
   "source": [
    "df.corr()"
   ]
  },
  {
   "cell_type": "markdown",
   "id": "0a288dda",
   "metadata": {},
   "source": [
    "Преобразуем тип признака 'Sex' в 'category'"
   ]
  },
  {
   "cell_type": "code",
   "execution_count": 36,
   "id": "97f47e3a",
   "metadata": {},
   "outputs": [],
   "source": [
    "# df['Sex_code'] = df['Sex'].apply(lambda x: 1 if str(x).strip() == 'male' else 0)\n",
    "# df['Big_Family'] = df['Big_Family'].astype('int64')"
   ]
  },
  {
   "cell_type": "code",
   "execution_count": 37,
   "id": "03dc9741",
   "metadata": {},
   "outputs": [
    {
     "name": "stdout",
     "output_type": "stream",
     "text": [
      "<class 'pandas.core.frame.DataFrame'>\n",
      "Int64Index: 891 entries, 1 to 891\n",
      "Data columns (total 14 columns):\n",
      " #   Column      Non-Null Count  Dtype   \n",
      "---  ------      --------------  -----   \n",
      " 0   Survived    891 non-null    int64   \n",
      " 1   Pclass      891 non-null    int64   \n",
      " 2   Name        891 non-null    object  \n",
      " 3   Sex         891 non-null    object  \n",
      " 4   Age         714 non-null    float64 \n",
      " 5   SibSp       891 non-null    int64   \n",
      " 6   Parch       891 non-null    int64   \n",
      " 7   Ticket      891 non-null    object  \n",
      " 8   Fare        891 non-null    float64 \n",
      " 9   Cabin       204 non-null    object  \n",
      " 10  Embarked    889 non-null    object  \n",
      " 11  Age_Range   714 non-null    category\n",
      " 12  Family      891 non-null    int64   \n",
      " 13  Big_Family  891 non-null    bool    \n",
      "dtypes: bool(1), category(1), float64(2), int64(5), object(5)\n",
      "memory usage: 92.7+ KB\n"
     ]
    }
   ],
   "source": [
    "df.info()"
   ]
  },
  {
   "cell_type": "markdown",
   "id": "fb6097e4",
   "metadata": {},
   "source": [
    "## Прогнозирование"
   ]
  },
  {
   "cell_type": "code",
   "execution_count": 38,
   "id": "8e172e4b",
   "metadata": {},
   "outputs": [],
   "source": [
    "def try_model(model, X_train, y_train, X_test, y_test, model_params=None):\n",
    "    if model_params is None:\n",
    "        model_params = dict()\n",
    "    print(model.__name__)\n",
    "    pipeline = make_pipeline(StandardScaler(), model(**model_params))\n",
    "    pipeline.fit(X_train, y_train)\n",
    "    y_pred = pipeline.predict(X_test)\n",
    "    print('Accuracy:', accuracy_score(y_test, y_pred))\n",
    "    print('Precision:', precision_score(y_test, y_pred))\n",
    "    print('Recall:', recall_score(y_test, y_pred))\n",
    "    print('F1 score:', f1_score(y_test, y_pred))\n",
    "\n",
    "    fpr, tpr, thresholds = roc_curve(y_test, y_pred)\n",
    "    plt.plot(fpr, tpr, color=\"darkorange\", label=f\"ROC curve (area = {auc(fpr, tpr):0.3f})\")\n",
    "    plt.plot([0, 1], [0, 1], color=\"navy\", linestyle=\"--\")\n",
    "    plt.legend()\n",
    "\n",
    "    return pipeline"
   ]
  },
  {
   "cell_type": "markdown",
   "id": "fd5b7820",
   "metadata": {},
   "source": [
    "Разделим датасет на features и target"
   ]
  },
  {
   "cell_type": "code",
   "execution_count": 136,
   "id": "72cb7c21",
   "metadata": {},
   "outputs": [],
   "source": [
    "df['Embarked'] = df['Embarked'].astype('category')\n",
    "df['Embarked'] = df['Embarked'].cat.codes"
   ]
  },
  {
   "cell_type": "code",
   "execution_count": 50,
   "id": "da52d7e4",
   "metadata": {},
   "outputs": [],
   "source": [
    "df.dropna(subset=['Age_Range'], inplace=True)"
   ]
  },
  {
   "cell_type": "code",
   "execution_count": 51,
   "id": "ec1bae7d",
   "metadata": {},
   "outputs": [],
   "source": [
    "df['Age_Range'] = df['Age_Range'].cat.codes"
   ]
  },
  {
   "cell_type": "code",
   "execution_count": null,
   "id": "ffa468e5",
   "metadata": {},
   "outputs": [],
   "source": [
    "df['Sex'] = df['Sex'].astype('category')\n",
    "df['Sex'] = df['Sex'].cat.codes"
   ]
  },
  {
   "cell_type": "code",
   "execution_count": 137,
   "id": "ea156c37",
   "metadata": {},
   "outputs": [
    {
     "name": "stdout",
     "output_type": "stream",
     "text": [
      "<class 'pandas.core.frame.DataFrame'>\n",
      "Int64Index: 714 entries, 1 to 891\n",
      "Data columns (total 14 columns):\n",
      " #   Column      Non-Null Count  Dtype  \n",
      "---  ------      --------------  -----  \n",
      " 0   Survived    714 non-null    int64  \n",
      " 1   Pclass      714 non-null    int64  \n",
      " 2   Name        714 non-null    object \n",
      " 3   Sex         714 non-null    int8   \n",
      " 4   Age         714 non-null    float64\n",
      " 5   SibSp       714 non-null    int64  \n",
      " 6   Parch       714 non-null    int64  \n",
      " 7   Ticket      714 non-null    object \n",
      " 8   Fare        714 non-null    float64\n",
      " 9   Cabin       185 non-null    object \n",
      " 10  Embarked    714 non-null    int8   \n",
      " 11  Age_Range   714 non-null    int8   \n",
      " 12  Family      714 non-null    int64  \n",
      " 13  Big_Family  714 non-null    bool   \n",
      "dtypes: bool(1), float64(2), int64(5), int8(3), object(3)\n",
      "memory usage: 64.1+ KB\n"
     ]
    }
   ],
   "source": [
    "df.info()"
   ]
  },
  {
   "cell_type": "code",
   "execution_count": 53,
   "id": "1d49e819",
   "metadata": {
    "scrolled": false
   },
   "outputs": [
    {
     "data": {
      "text/plain": [
       "Index(['Survived', 'Pclass', 'Name', 'Sex', 'Age', 'SibSp', 'Parch', 'Ticket',\n",
       "       'Fare', 'Cabin', 'Embarked', 'Age_Range', 'Family', 'Big_Family'],\n",
       "      dtype='object')"
      ]
     },
     "execution_count": 53,
     "metadata": {},
     "output_type": "execute_result"
    }
   ],
   "source": [
    "df.columns"
   ]
  },
  {
   "cell_type": "raw",
   "id": "40b326d1",
   "metadata": {},
   "source": [
    "Cabin', 'Name', 'Fare', 'Ticket', 'SibSp', 'Parch', 'Age', 'Age_Range', 'Embarked'"
   ]
  },
  {
   "cell_type": "code",
   "execution_count": 138,
   "id": "1bc79820",
   "metadata": {},
   "outputs": [],
   "source": [
    "features = df[['Pclass', 'Sex', 'Family', 'Big_Family', 'Age', 'Age_Range', 'Embarked']].values\n",
    "target = df['Survived'].ravel()"
   ]
  },
  {
   "cell_type": "raw",
   "id": "afd32e9e",
   "metadata": {},
   "source": [
    "LogisticRegression\n",
    "Accuracy: 0.8071748878923767\n",
    "Precision: 0.7945205479452054\n",
    "Recall: 0.6744186046511628\n",
    "F1 score: 0.7295597484276729"
   ]
  },
  {
   "cell_type": "code",
   "execution_count": null,
   "id": "ce8e43f3",
   "metadata": {},
   "outputs": [],
   "source": []
  },
  {
   "cell_type": "code",
   "execution_count": 139,
   "id": "586c029a",
   "metadata": {},
   "outputs": [],
   "source": [
    "features_train, features_test, target_train, target_test = train_test_split(features, target, stratify=target, random_state=37)"
   ]
  },
  {
   "cell_type": "code",
   "execution_count": 140,
   "id": "83e1ac68",
   "metadata": {
    "scrolled": true
   },
   "outputs": [
    {
     "name": "stdout",
     "output_type": "stream",
     "text": [
      "LogisticRegression\n",
      "Accuracy: 0.888268156424581\n",
      "Precision: 0.8732394366197183\n",
      "Recall: 0.8493150684931506\n",
      "F1 score: 0.861111111111111\n"
     ]
    },
    {
     "data": {
      "text/html": [
       "<style>#sk-container-id-48 {color: black;background-color: white;}#sk-container-id-48 pre{padding: 0;}#sk-container-id-48 div.sk-toggleable {background-color: white;}#sk-container-id-48 label.sk-toggleable__label {cursor: pointer;display: block;width: 100%;margin-bottom: 0;padding: 0.3em;box-sizing: border-box;text-align: center;}#sk-container-id-48 label.sk-toggleable__label-arrow:before {content: \"▸\";float: left;margin-right: 0.25em;color: #696969;}#sk-container-id-48 label.sk-toggleable__label-arrow:hover:before {color: black;}#sk-container-id-48 div.sk-estimator:hover label.sk-toggleable__label-arrow:before {color: black;}#sk-container-id-48 div.sk-toggleable__content {max-height: 0;max-width: 0;overflow: hidden;text-align: left;background-color: #f0f8ff;}#sk-container-id-48 div.sk-toggleable__content pre {margin: 0.2em;color: black;border-radius: 0.25em;background-color: #f0f8ff;}#sk-container-id-48 input.sk-toggleable__control:checked~div.sk-toggleable__content {max-height: 200px;max-width: 100%;overflow: auto;}#sk-container-id-48 input.sk-toggleable__control:checked~label.sk-toggleable__label-arrow:before {content: \"▾\";}#sk-container-id-48 div.sk-estimator input.sk-toggleable__control:checked~label.sk-toggleable__label {background-color: #d4ebff;}#sk-container-id-48 div.sk-label input.sk-toggleable__control:checked~label.sk-toggleable__label {background-color: #d4ebff;}#sk-container-id-48 input.sk-hidden--visually {border: 0;clip: rect(1px 1px 1px 1px);clip: rect(1px, 1px, 1px, 1px);height: 1px;margin: -1px;overflow: hidden;padding: 0;position: absolute;width: 1px;}#sk-container-id-48 div.sk-estimator {font-family: monospace;background-color: #f0f8ff;border: 1px dotted black;border-radius: 0.25em;box-sizing: border-box;margin-bottom: 0.5em;}#sk-container-id-48 div.sk-estimator:hover {background-color: #d4ebff;}#sk-container-id-48 div.sk-parallel-item::after {content: \"\";width: 100%;border-bottom: 1px solid gray;flex-grow: 1;}#sk-container-id-48 div.sk-label:hover label.sk-toggleable__label {background-color: #d4ebff;}#sk-container-id-48 div.sk-serial::before {content: \"\";position: absolute;border-left: 1px solid gray;box-sizing: border-box;top: 0;bottom: 0;left: 50%;z-index: 0;}#sk-container-id-48 div.sk-serial {display: flex;flex-direction: column;align-items: center;background-color: white;padding-right: 0.2em;padding-left: 0.2em;position: relative;}#sk-container-id-48 div.sk-item {position: relative;z-index: 1;}#sk-container-id-48 div.sk-parallel {display: flex;align-items: stretch;justify-content: center;background-color: white;position: relative;}#sk-container-id-48 div.sk-item::before, #sk-container-id-48 div.sk-parallel-item::before {content: \"\";position: absolute;border-left: 1px solid gray;box-sizing: border-box;top: 0;bottom: 0;left: 50%;z-index: -1;}#sk-container-id-48 div.sk-parallel-item {display: flex;flex-direction: column;z-index: 1;position: relative;background-color: white;}#sk-container-id-48 div.sk-parallel-item:first-child::after {align-self: flex-end;width: 50%;}#sk-container-id-48 div.sk-parallel-item:last-child::after {align-self: flex-start;width: 50%;}#sk-container-id-48 div.sk-parallel-item:only-child::after {width: 0;}#sk-container-id-48 div.sk-dashed-wrapped {border: 1px dashed gray;margin: 0 0.4em 0.5em 0.4em;box-sizing: border-box;padding-bottom: 0.4em;background-color: white;}#sk-container-id-48 div.sk-label label {font-family: monospace;font-weight: bold;display: inline-block;line-height: 1.2em;}#sk-container-id-48 div.sk-label-container {text-align: center;}#sk-container-id-48 div.sk-container {/* jupyter's `normalize.less` sets `[hidden] { display: none; }` but bootstrap.min.css set `[hidden] { display: none !important; }` so we also need the `!important` here to be able to override the default hidden behavior on the sphinx rendered scikit-learn.org. See: https://github.com/scikit-learn/scikit-learn/issues/21755 */display: inline-block !important;position: relative;}#sk-container-id-48 div.sk-text-repr-fallback {display: none;}</style><div id=\"sk-container-id-48\" class=\"sk-top-container\"><div class=\"sk-text-repr-fallback\"><pre>Pipeline(steps=[(&#x27;standardscaler&#x27;, StandardScaler()),\n",
       "                (&#x27;logisticregression&#x27;, LogisticRegression())])</pre><b>In a Jupyter environment, please rerun this cell to show the HTML representation or trust the notebook. <br />On GitHub, the HTML representation is unable to render, please try loading this page with nbviewer.org.</b></div><div class=\"sk-container\" hidden><div class=\"sk-item sk-dashed-wrapped\"><div class=\"sk-label-container\"><div class=\"sk-label sk-toggleable\"><input class=\"sk-toggleable__control sk-hidden--visually\" id=\"sk-estimator-id-142\" type=\"checkbox\" ><label for=\"sk-estimator-id-142\" class=\"sk-toggleable__label sk-toggleable__label-arrow\">Pipeline</label><div class=\"sk-toggleable__content\"><pre>Pipeline(steps=[(&#x27;standardscaler&#x27;, StandardScaler()),\n",
       "                (&#x27;logisticregression&#x27;, LogisticRegression())])</pre></div></div></div><div class=\"sk-serial\"><div class=\"sk-item\"><div class=\"sk-estimator sk-toggleable\"><input class=\"sk-toggleable__control sk-hidden--visually\" id=\"sk-estimator-id-143\" type=\"checkbox\" ><label for=\"sk-estimator-id-143\" class=\"sk-toggleable__label sk-toggleable__label-arrow\">StandardScaler</label><div class=\"sk-toggleable__content\"><pre>StandardScaler()</pre></div></div></div><div class=\"sk-item\"><div class=\"sk-estimator sk-toggleable\"><input class=\"sk-toggleable__control sk-hidden--visually\" id=\"sk-estimator-id-144\" type=\"checkbox\" ><label for=\"sk-estimator-id-144\" class=\"sk-toggleable__label sk-toggleable__label-arrow\">LogisticRegression</label><div class=\"sk-toggleable__content\"><pre>LogisticRegression()</pre></div></div></div></div></div></div></div>"
      ],
      "text/plain": [
       "Pipeline(steps=[('standardscaler', StandardScaler()),\n",
       "                ('logisticregression', LogisticRegression())])"
      ]
     },
     "execution_count": 140,
     "metadata": {},
     "output_type": "execute_result"
    },
    {
     "data": {
      "image/png": "[encoded data removed]",
      "text/plain": [
       "<Figure size 640x480 with 1 Axes>"
      ]
     },
     "metadata": {},
     "output_type": "display_data"
    }
   ],
   "source": [
    "try_model(LogisticRegression, features_train, target_train, features_test, target_test)"
   ]
  },
  {
   "cell_type": "code",
   "execution_count": 141,
   "id": "9407f470",
   "metadata": {
    "scrolled": false
   },
   "outputs": [
    {
     "name": "stdout",
     "output_type": "stream",
     "text": [
      "SVC\n",
      "Accuracy: 0.8379888268156425\n",
      "Precision: 0.8928571428571429\n",
      "Recall: 0.684931506849315\n",
      "F1 score: 0.7751937984496124\n"
     ]
    },
    {
     "data": {
      "text/html": [
       "<style>#sk-container-id-49 {color: black;background-color: white;}#sk-container-id-49 pre{padding: 0;}#sk-container-id-49 div.sk-toggleable {background-color: white;}#sk-container-id-49 label.sk-toggleable__label {cursor: pointer;display: block;width: 100%;margin-bottom: 0;padding: 0.3em;box-sizing: border-box;text-align: center;}#sk-container-id-49 label.sk-toggleable__label-arrow:before {content: \"▸\";float: left;margin-right: 0.25em;color: #696969;}#sk-container-id-49 label.sk-toggleable__label-arrow:hover:before {color: black;}#sk-container-id-49 div.sk-estimator:hover label.sk-toggleable__label-arrow:before {color: black;}#sk-container-id-49 div.sk-toggleable__content {max-height: 0;max-width: 0;overflow: hidden;text-align: left;background-color: #f0f8ff;}#sk-container-id-49 div.sk-toggleable__content pre {margin: 0.2em;color: black;border-radius: 0.25em;background-color: #f0f8ff;}#sk-container-id-49 input.sk-toggleable__control:checked~div.sk-toggleable__content {max-height: 200px;max-width: 100%;overflow: auto;}#sk-container-id-49 input.sk-toggleable__control:checked~label.sk-toggleable__label-arrow:before {content: \"▾\";}#sk-container-id-49 div.sk-estimator input.sk-toggleable__control:checked~label.sk-toggleable__label {background-color: #d4ebff;}#sk-container-id-49 div.sk-label input.sk-toggleable__control:checked~label.sk-toggleable__label {background-color: #d4ebff;}#sk-container-id-49 input.sk-hidden--visually {border: 0;clip: rect(1px 1px 1px 1px);clip: rect(1px, 1px, 1px, 1px);height: 1px;margin: -1px;overflow: hidden;padding: 0;position: absolute;width: 1px;}#sk-container-id-49 div.sk-estimator {font-family: monospace;background-color: #f0f8ff;border: 1px dotted black;border-radius: 0.25em;box-sizing: border-box;margin-bottom: 0.5em;}#sk-container-id-49 div.sk-estimator:hover {background-color: #d4ebff;}#sk-container-id-49 div.sk-parallel-item::after {content: \"\";width: 100%;border-bottom: 1px solid gray;flex-grow: 1;}#sk-container-id-49 div.sk-label:hover label.sk-toggleable__label {background-color: #d4ebff;}#sk-container-id-49 div.sk-serial::before {content: \"\";position: absolute;border-left: 1px solid gray;box-sizing: border-box;top: 0;bottom: 0;left: 50%;z-index: 0;}#sk-container-id-49 div.sk-serial {display: flex;flex-direction: column;align-items: center;background-color: white;padding-right: 0.2em;padding-left: 0.2em;position: relative;}#sk-container-id-49 div.sk-item {position: relative;z-index: 1;}#sk-container-id-49 div.sk-parallel {display: flex;align-items: stretch;justify-content: center;background-color: white;position: relative;}#sk-container-id-49 div.sk-item::before, #sk-container-id-49 div.sk-parallel-item::before {content: \"\";position: absolute;border-left: 1px solid gray;box-sizing: border-box;top: 0;bottom: 0;left: 50%;z-index: -1;}#sk-container-id-49 div.sk-parallel-item {display: flex;flex-direction: column;z-index: 1;position: relative;background-color: white;}#sk-container-id-49 div.sk-parallel-item:first-child::after {align-self: flex-end;width: 50%;}#sk-container-id-49 div.sk-parallel-item:last-child::after {align-self: flex-start;width: 50%;}#sk-container-id-49 div.sk-parallel-item:only-child::after {width: 0;}#sk-container-id-49 div.sk-dashed-wrapped {border: 1px dashed gray;margin: 0 0.4em 0.5em 0.4em;box-sizing: border-box;padding-bottom: 0.4em;background-color: white;}#sk-container-id-49 div.sk-label label {font-family: monospace;font-weight: bold;display: inline-block;line-height: 1.2em;}#sk-container-id-49 div.sk-label-container {text-align: center;}#sk-container-id-49 div.sk-container {/* jupyter's `normalize.less` sets `[hidden] { display: none; }` but bootstrap.min.css set `[hidden] { display: none !important; }` so we also need the `!important` here to be able to override the default hidden behavior on the sphinx rendered scikit-learn.org. See: https://github.com/scikit-learn/scikit-learn/issues/21755 */display: inline-block !important;position: relative;}#sk-container-id-49 div.sk-text-repr-fallback {display: none;}</style><div id=\"sk-container-id-49\" class=\"sk-top-container\"><div class=\"sk-text-repr-fallback\"><pre>Pipeline(steps=[(&#x27;standardscaler&#x27;, StandardScaler()), (&#x27;svc&#x27;, SVC())])</pre><b>In a Jupyter environment, please rerun this cell to show the HTML representation or trust the notebook. <br />On GitHub, the HTML representation is unable to render, please try loading this page with nbviewer.org.</b></div><div class=\"sk-container\" hidden><div class=\"sk-item sk-dashed-wrapped\"><div class=\"sk-label-container\"><div class=\"sk-label sk-toggleable\"><input class=\"sk-toggleable__control sk-hidden--visually\" id=\"sk-estimator-id-145\" type=\"checkbox\" ><label for=\"sk-estimator-id-145\" class=\"sk-toggleable__label sk-toggleable__label-arrow\">Pipeline</label><div class=\"sk-toggleable__content\"><pre>Pipeline(steps=[(&#x27;standardscaler&#x27;, StandardScaler()), (&#x27;svc&#x27;, SVC())])</pre></div></div></div><div class=\"sk-serial\"><div class=\"sk-item\"><div class=\"sk-estimator sk-toggleable\"><input class=\"sk-toggleable__control sk-hidden--visually\" id=\"sk-estimator-id-146\" type=\"checkbox\" ><label for=\"sk-estimator-id-146\" class=\"sk-toggleable__label sk-toggleable__label-arrow\">StandardScaler</label><div class=\"sk-toggleable__content\"><pre>StandardScaler()</pre></div></div></div><div class=\"sk-item\"><div class=\"sk-estimator sk-toggleable\"><input class=\"sk-toggleable__control sk-hidden--visually\" id=\"sk-estimator-id-147\" type=\"checkbox\" ><label for=\"sk-estimator-id-147\" class=\"sk-toggleable__label sk-toggleable__label-arrow\">SVC</label><div class=\"sk-toggleable__content\"><pre>SVC()</pre></div></div></div></div></div></div></div>"
      ],
      "text/plain": [
       "Pipeline(steps=[('standardscaler', StandardScaler()), ('svc', SVC())])"
      ]
     },
     "execution_count": 141,
     "metadata": {},
     "output_type": "execute_result"
    },
    {
     "data": {
      "image/png": "[encoded data removed]",
      "text/plain": [
       "<Figure size 640x480 with 1 Axes>"
      ]
     },
     "metadata": {},
     "output_type": "display_data"
    }
   ],
   "source": [
    "try_model(SVC, features_train, target_train, features_test, target_test)"
   ]
  },
  {
   "cell_type": "code",
   "execution_count": 142,
   "id": "ac3fd1d3",
   "metadata": {
    "scrolled": true
   },
   "outputs": [
    {
     "name": "stdout",
     "output_type": "stream",
     "text": [
      "GaussianNB\n",
      "Accuracy: 0.8491620111731844\n",
      "Precision: 0.8382352941176471\n",
      "Recall: 0.7808219178082192\n",
      "F1 score: 0.8085106382978724\n"
     ]
    },
    {
     "data": {
      "text/html": [
       "<style>#sk-container-id-50 {color: black;background-color: white;}#sk-container-id-50 pre{padding: 0;}#sk-container-id-50 div.sk-toggleable {background-color: white;}#sk-container-id-50 label.sk-toggleable__label {cursor: pointer;display: block;width: 100%;margin-bottom: 0;padding: 0.3em;box-sizing: border-box;text-align: center;}#sk-container-id-50 label.sk-toggleable__label-arrow:before {content: \"▸\";float: left;margin-right: 0.25em;color: #696969;}#sk-container-id-50 label.sk-toggleable__label-arrow:hover:before {color: black;}#sk-container-id-50 div.sk-estimator:hover label.sk-toggleable__label-arrow:before {color: black;}#sk-container-id-50 div.sk-toggleable__content {max-height: 0;max-width: 0;overflow: hidden;text-align: left;background-color: #f0f8ff;}#sk-container-id-50 div.sk-toggleable__content pre {margin: 0.2em;color: black;border-radius: 0.25em;background-color: #f0f8ff;}#sk-container-id-50 input.sk-toggleable__control:checked~div.sk-toggleable__content {max-height: 200px;max-width: 100%;overflow: auto;}#sk-container-id-50 input.sk-toggleable__control:checked~label.sk-toggleable__label-arrow:before {content: \"▾\";}#sk-container-id-50 div.sk-estimator input.sk-toggleable__control:checked~label.sk-toggleable__label {background-color: #d4ebff;}#sk-container-id-50 div.sk-label input.sk-toggleable__control:checked~label.sk-toggleable__label {background-color: #d4ebff;}#sk-container-id-50 input.sk-hidden--visually {border: 0;clip: rect(1px 1px 1px 1px);clip: rect(1px, 1px, 1px, 1px);height: 1px;margin: -1px;overflow: hidden;padding: 0;position: absolute;width: 1px;}#sk-container-id-50 div.sk-estimator {font-family: monospace;background-color: #f0f8ff;border: 1px dotted black;border-radius: 0.25em;box-sizing: border-box;margin-bottom: 0.5em;}#sk-container-id-50 div.sk-estimator:hover {background-color: #d4ebff;}#sk-container-id-50 div.sk-parallel-item::after {content: \"\";width: 100%;border-bottom: 1px solid gray;flex-grow: 1;}#sk-container-id-50 div.sk-label:hover label.sk-toggleable__label {background-color: #d4ebff;}#sk-container-id-50 div.sk-serial::before {content: \"\";position: absolute;border-left: 1px solid gray;box-sizing: border-box;top: 0;bottom: 0;left: 50%;z-index: 0;}#sk-container-id-50 div.sk-serial {display: flex;flex-direction: column;align-items: center;background-color: white;padding-right: 0.2em;padding-left: 0.2em;position: relative;}#sk-container-id-50 div.sk-item {position: relative;z-index: 1;}#sk-container-id-50 div.sk-parallel {display: flex;align-items: stretch;justify-content: center;background-color: white;position: relative;}#sk-container-id-50 div.sk-item::before, #sk-container-id-50 div.sk-parallel-item::before {content: \"\";position: absolute;border-left: 1px solid gray;box-sizing: border-box;top: 0;bottom: 0;left: 50%;z-index: -1;}#sk-container-id-50 div.sk-parallel-item {display: flex;flex-direction: column;z-index: 1;position: relative;background-color: white;}#sk-container-id-50 div.sk-parallel-item:first-child::after {align-self: flex-end;width: 50%;}#sk-container-id-50 div.sk-parallel-item:last-child::after {align-self: flex-start;width: 50%;}#sk-container-id-50 div.sk-parallel-item:only-child::after {width: 0;}#sk-container-id-50 div.sk-dashed-wrapped {border: 1px dashed gray;margin: 0 0.4em 0.5em 0.4em;box-sizing: border-box;padding-bottom: 0.4em;background-color: white;}#sk-container-id-50 div.sk-label label {font-family: monospace;font-weight: bold;display: inline-block;line-height: 1.2em;}#sk-container-id-50 div.sk-label-container {text-align: center;}#sk-container-id-50 div.sk-container {/* jupyter's `normalize.less` sets `[hidden] { display: none; }` but bootstrap.min.css set `[hidden] { display: none !important; }` so we also need the `!important` here to be able to override the default hidden behavior on the sphinx rendered scikit-learn.org. See: https://github.com/scikit-learn/scikit-learn/issues/21755 */display: inline-block !important;position: relative;}#sk-container-id-50 div.sk-text-repr-fallback {display: none;}</style><div id=\"sk-container-id-50\" class=\"sk-top-container\"><div class=\"sk-text-repr-fallback\"><pre>Pipeline(steps=[(&#x27;standardscaler&#x27;, StandardScaler()),\n",
       "                (&#x27;gaussiannb&#x27;, GaussianNB())])</pre><b>In a Jupyter environment, please rerun this cell to show the HTML representation or trust the notebook. <br />On GitHub, the HTML representation is unable to render, please try loading this page with nbviewer.org.</b></div><div class=\"sk-container\" hidden><div class=\"sk-item sk-dashed-wrapped\"><div class=\"sk-label-container\"><div class=\"sk-label sk-toggleable\"><input class=\"sk-toggleable__control sk-hidden--visually\" id=\"sk-estimator-id-148\" type=\"checkbox\" ><label for=\"sk-estimator-id-148\" class=\"sk-toggleable__label sk-toggleable__label-arrow\">Pipeline</label><div class=\"sk-toggleable__content\"><pre>Pipeline(steps=[(&#x27;standardscaler&#x27;, StandardScaler()),\n",
       "                (&#x27;gaussiannb&#x27;, GaussianNB())])</pre></div></div></div><div class=\"sk-serial\"><div class=\"sk-item\"><div class=\"sk-estimator sk-toggleable\"><input class=\"sk-toggleable__control sk-hidden--visually\" id=\"sk-estimator-id-149\" type=\"checkbox\" ><label for=\"sk-estimator-id-149\" class=\"sk-toggleable__label sk-toggleable__label-arrow\">StandardScaler</label><div class=\"sk-toggleable__content\"><pre>StandardScaler()</pre></div></div></div><div class=\"sk-item\"><div class=\"sk-estimator sk-toggleable\"><input class=\"sk-toggleable__control sk-hidden--visually\" id=\"sk-estimator-id-150\" type=\"checkbox\" ><label for=\"sk-estimator-id-150\" class=\"sk-toggleable__label sk-toggleable__label-arrow\">GaussianNB</label><div class=\"sk-toggleable__content\"><pre>GaussianNB()</pre></div></div></div></div></div></div></div>"
      ],
      "text/plain": [
       "Pipeline(steps=[('standardscaler', StandardScaler()),\n",
       "                ('gaussiannb', GaussianNB())])"
      ]
     },
     "execution_count": 142,
     "metadata": {},
     "output_type": "execute_result"
    },
    {
     "data": {
      "image/png": "[encoded data removed]",
      "text/plain": [
       "<Figure size 640x480 with 1 Axes>"
      ]
     },
     "metadata": {},
     "output_type": "display_data"
    }
   ],
   "source": [
    "try_model(GaussianNB, features_train, target_train, features_test, target_test)"
   ]
  },
  {
   "cell_type": "code",
   "execution_count": 143,
   "id": "e0ef9d80",
   "metadata": {
    "scrolled": true
   },
   "outputs": [
    {
     "name": "stdout",
     "output_type": "stream",
     "text": [
      "KNeighborsClassifier\n",
      "Accuracy: 0.7821229050279329\n",
      "Precision: 0.7428571428571429\n",
      "Recall: 0.7123287671232876\n",
      "F1 score: 0.7272727272727273\n"
     ]
    },
    {
     "data": {
      "text/html": [
       "<style>#sk-container-id-51 {color: black;background-color: white;}#sk-container-id-51 pre{padding: 0;}#sk-container-id-51 div.sk-toggleable {background-color: white;}#sk-container-id-51 label.sk-toggleable__label {cursor: pointer;display: block;width: 100%;margin-bottom: 0;padding: 0.3em;box-sizing: border-box;text-align: center;}#sk-container-id-51 label.sk-toggleable__label-arrow:before {content: \"▸\";float: left;margin-right: 0.25em;color: #696969;}#sk-container-id-51 label.sk-toggleable__label-arrow:hover:before {color: black;}#sk-container-id-51 div.sk-estimator:hover label.sk-toggleable__label-arrow:before {color: black;}#sk-container-id-51 div.sk-toggleable__content {max-height: 0;max-width: 0;overflow: hidden;text-align: left;background-color: #f0f8ff;}#sk-container-id-51 div.sk-toggleable__content pre {margin: 0.2em;color: black;border-radius: 0.25em;background-color: #f0f8ff;}#sk-container-id-51 input.sk-toggleable__control:checked~div.sk-toggleable__content {max-height: 200px;max-width: 100%;overflow: auto;}#sk-container-id-51 input.sk-toggleable__control:checked~label.sk-toggleable__label-arrow:before {content: \"▾\";}#sk-container-id-51 div.sk-estimator input.sk-toggleable__control:checked~label.sk-toggleable__label {background-color: #d4ebff;}#sk-container-id-51 div.sk-label input.sk-toggleable__control:checked~label.sk-toggleable__label {background-color: #d4ebff;}#sk-container-id-51 input.sk-hidden--visually {border: 0;clip: rect(1px 1px 1px 1px);clip: rect(1px, 1px, 1px, 1px);height: 1px;margin: -1px;overflow: hidden;padding: 0;position: absolute;width: 1px;}#sk-container-id-51 div.sk-estimator {font-family: monospace;background-color: #f0f8ff;border: 1px dotted black;border-radius: 0.25em;box-sizing: border-box;margin-bottom: 0.5em;}#sk-container-id-51 div.sk-estimator:hover {background-color: #d4ebff;}#sk-container-id-51 div.sk-parallel-item::after {content: \"\";width: 100%;border-bottom: 1px solid gray;flex-grow: 1;}#sk-container-id-51 div.sk-label:hover label.sk-toggleable__label {background-color: #d4ebff;}#sk-container-id-51 div.sk-serial::before {content: \"\";position: absolute;border-left: 1px solid gray;box-sizing: border-box;top: 0;bottom: 0;left: 50%;z-index: 0;}#sk-container-id-51 div.sk-serial {display: flex;flex-direction: column;align-items: center;background-color: white;padding-right: 0.2em;padding-left: 0.2em;position: relative;}#sk-container-id-51 div.sk-item {position: relative;z-index: 1;}#sk-container-id-51 div.sk-parallel {display: flex;align-items: stretch;justify-content: center;background-color: white;position: relative;}#sk-container-id-51 div.sk-item::before, #sk-container-id-51 div.sk-parallel-item::before {content: \"\";position: absolute;border-left: 1px solid gray;box-sizing: border-box;top: 0;bottom: 0;left: 50%;z-index: -1;}#sk-container-id-51 div.sk-parallel-item {display: flex;flex-direction: column;z-index: 1;position: relative;background-color: white;}#sk-container-id-51 div.sk-parallel-item:first-child::after {align-self: flex-end;width: 50%;}#sk-container-id-51 div.sk-parallel-item:last-child::after {align-self: flex-start;width: 50%;}#sk-container-id-51 div.sk-parallel-item:only-child::after {width: 0;}#sk-container-id-51 div.sk-dashed-wrapped {border: 1px dashed gray;margin: 0 0.4em 0.5em 0.4em;box-sizing: border-box;padding-bottom: 0.4em;background-color: white;}#sk-container-id-51 div.sk-label label {font-family: monospace;font-weight: bold;display: inline-block;line-height: 1.2em;}#sk-container-id-51 div.sk-label-container {text-align: center;}#sk-container-id-51 div.sk-container {/* jupyter's `normalize.less` sets `[hidden] { display: none; }` but bootstrap.min.css set `[hidden] { display: none !important; }` so we also need the `!important` here to be able to override the default hidden behavior on the sphinx rendered scikit-learn.org. See: https://github.com/scikit-learn/scikit-learn/issues/21755 */display: inline-block !important;position: relative;}#sk-container-id-51 div.sk-text-repr-fallback {display: none;}</style><div id=\"sk-container-id-51\" class=\"sk-top-container\"><div class=\"sk-text-repr-fallback\"><pre>Pipeline(steps=[(&#x27;standardscaler&#x27;, StandardScaler()),\n",
       "                (&#x27;kneighborsclassifier&#x27;, KNeighborsClassifier())])</pre><b>In a Jupyter environment, please rerun this cell to show the HTML representation or trust the notebook. <br />On GitHub, the HTML representation is unable to render, please try loading this page with nbviewer.org.</b></div><div class=\"sk-container\" hidden><div class=\"sk-item sk-dashed-wrapped\"><div class=\"sk-label-container\"><div class=\"sk-label sk-toggleable\"><input class=\"sk-toggleable__control sk-hidden--visually\" id=\"sk-estimator-id-151\" type=\"checkbox\" ><label for=\"sk-estimator-id-151\" class=\"sk-toggleable__label sk-toggleable__label-arrow\">Pipeline</label><div class=\"sk-toggleable__content\"><pre>Pipeline(steps=[(&#x27;standardscaler&#x27;, StandardScaler()),\n",
       "                (&#x27;kneighborsclassifier&#x27;, KNeighborsClassifier())])</pre></div></div></div><div class=\"sk-serial\"><div class=\"sk-item\"><div class=\"sk-estimator sk-toggleable\"><input class=\"sk-toggleable__control sk-hidden--visually\" id=\"sk-estimator-id-152\" type=\"checkbox\" ><label for=\"sk-estimator-id-152\" class=\"sk-toggleable__label sk-toggleable__label-arrow\">StandardScaler</label><div class=\"sk-toggleable__content\"><pre>StandardScaler()</pre></div></div></div><div class=\"sk-item\"><div class=\"sk-estimator sk-toggleable\"><input class=\"sk-toggleable__control sk-hidden--visually\" id=\"sk-estimator-id-153\" type=\"checkbox\" ><label for=\"sk-estimator-id-153\" class=\"sk-toggleable__label sk-toggleable__label-arrow\">KNeighborsClassifier</label><div class=\"sk-toggleable__content\"><pre>KNeighborsClassifier()</pre></div></div></div></div></div></div></div>"
      ],
      "text/plain": [
       "Pipeline(steps=[('standardscaler', StandardScaler()),\n",
       "                ('kneighborsclassifier', KNeighborsClassifier())])"
      ]
     },
     "execution_count": 143,
     "metadata": {},
     "output_type": "execute_result"
    },
    {
     "data": {
      "image/png": "[encoded data removed]",
      "text/plain": [
       "<Figure size 640x480 with 1 Axes>"
      ]
     },
     "metadata": {},
     "output_type": "display_data"
    }
   ],
   "source": [
    "try_model(KNeighborsClassifier, features_train, target_train, features_test, target_test)"
   ]
  },
  {
   "cell_type": "code",
   "execution_count": 144,
   "id": "0dd20717",
   "metadata": {},
   "outputs": [],
   "source": [
    "res = {}\n",
    "for i in range(101):\n",
    "    features_train, features_test, target_train, target_test = train_test_split(features, target, stratify=target, random_state=i)\n",
    "    model = LogisticRegression()\n",
    "    pipeline = make_pipeline(StandardScaler(), model)\n",
    "    pipeline.fit(features_train, target_train)\n",
    "    target_pred = pipeline.predict(features_test)\n",
    "    res[i] = {'Accuracy': accuracy_score(target_test, target_pred),\n",
    "              'Precision': precision_score(target_test, target_pred),\n",
    "              'Recall': recall_score(target_test, target_pred),\n",
    "              'F1 score': f1_score(target_test, target_pred)}"
   ]
  },
  {
   "cell_type": "code",
   "execution_count": 145,
   "id": "10ece074",
   "metadata": {},
   "outputs": [
    {
     "data": {
      "text/plain": [
       "[(37,\n",
       "  {'Accuracy': 0.888268156424581,\n",
       "   'Precision': 0.8732394366197183,\n",
       "   'Recall': 0.8493150684931506,\n",
       "   'F1 score': 0.861111111111111}),\n",
       " (60,\n",
       "  {'Accuracy': 0.8659217877094972,\n",
       "   'Precision': 0.8656716417910447,\n",
       "   'Recall': 0.7945205479452054,\n",
       "   'F1 score': 0.8285714285714286}),\n",
       " (87,\n",
       "  {'Accuracy': 0.8603351955307262,\n",
       "   'Precision': 0.8333333333333334,\n",
       "   'Recall': 0.821917808219178,\n",
       "   'F1 score': 0.8275862068965517}),\n",
       " (36,\n",
       "  {'Accuracy': 0.8547486033519553,\n",
       "   'Precision': 0.8051948051948052,\n",
       "   'Recall': 0.8493150684931506,\n",
       "   'F1 score': 0.8266666666666668}),\n",
       " (79,\n",
       "  {'Accuracy': 0.8603351955307262,\n",
       "   'Precision': 0.8428571428571429,\n",
       "   'Recall': 0.8082191780821918,\n",
       "   'F1 score': 0.8251748251748252}),\n",
       " (28,\n",
       "  {'Accuracy': 0.8603351955307262,\n",
       "   'Precision': 0.8529411764705882,\n",
       "   'Recall': 0.7945205479452054,\n",
       "   'F1 score': 0.8226950354609929}),\n",
       " (39,\n",
       "  {'Accuracy': 0.8603351955307262,\n",
       "   'Precision': 0.8636363636363636,\n",
       "   'Recall': 0.7808219178082192,\n",
       "   'F1 score': 0.8201438848920863}),\n",
       " (69,\n",
       "  {'Accuracy': 0.8491620111731844,\n",
       "   'Precision': 0.8194444444444444,\n",
       "   'Recall': 0.8082191780821918,\n",
       "   'F1 score': 0.8137931034482759}),\n",
       " (66,\n",
       "  {'Accuracy': 0.8603351955307262,\n",
       "   'Precision': 0.9,\n",
       "   'Recall': 0.7397260273972602,\n",
       "   'F1 score': 0.8120300751879699}),\n",
       " (61,\n",
       "  {'Accuracy': 0.8491620111731844,\n",
       "   'Precision': 0.8285714285714286,\n",
       "   'Recall': 0.7945205479452054,\n",
       "   'F1 score': 0.8111888111888111}),\n",
       " (89,\n",
       "  {'Accuracy': 0.8491620111731844,\n",
       "   'Precision': 0.8285714285714286,\n",
       "   'Recall': 0.7945205479452054,\n",
       "   'F1 score': 0.8111888111888111}),\n",
       " (2,\n",
       "  {'Accuracy': 0.8491620111731844,\n",
       "   'Precision': 0.8382352941176471,\n",
       "   'Recall': 0.7808219178082192,\n",
       "   'F1 score': 0.8085106382978724}),\n",
       " (43,\n",
       "  {'Accuracy': 0.8491620111731844,\n",
       "   'Precision': 0.8382352941176471,\n",
       "   'Recall': 0.7808219178082192,\n",
       "   'F1 score': 0.8085106382978724}),\n",
       " (44,\n",
       "  {'Accuracy': 0.8435754189944135,\n",
       "   'Precision': 0.8082191780821918,\n",
       "   'Recall': 0.8082191780821918,\n",
       "   'F1 score': 0.8082191780821918}),\n",
       " (73,\n",
       "  {'Accuracy': 0.8379888268156425,\n",
       "   'Precision': 0.7972972972972973,\n",
       "   'Recall': 0.8082191780821918,\n",
       "   'F1 score': 0.802721088435374}),\n",
       " (6,\n",
       "  {'Accuracy': 0.8435754189944135,\n",
       "   'Precision': 0.8461538461538461,\n",
       "   'Recall': 0.7534246575342466,\n",
       "   'F1 score': 0.7971014492753623}),\n",
       " (0,\n",
       "  {'Accuracy': 0.8491620111731844,\n",
       "   'Precision': 0.8833333333333333,\n",
       "   'Recall': 0.726027397260274,\n",
       "   'F1 score': 0.7969924812030076}),\n",
       " (46,\n",
       "  {'Accuracy': 0.8379888268156425,\n",
       "   'Precision': 0.8333333333333334,\n",
       "   'Recall': 0.7534246575342466,\n",
       "   'F1 score': 0.7913669064748201}),\n",
       " (21,\n",
       "  {'Accuracy': 0.8324022346368715,\n",
       "   'Precision': 0.8115942028985508,\n",
       "   'Recall': 0.7671232876712328,\n",
       "   'F1 score': 0.7887323943661971}),\n",
       " (25,\n",
       "  {'Accuracy': 0.8268156424581006,\n",
       "   'Precision': 0.7916666666666666,\n",
       "   'Recall': 0.7808219178082192,\n",
       "   'F1 score': 0.7862068965517242}),\n",
       " (22,\n",
       "  {'Accuracy': 0.8212290502793296,\n",
       "   'Precision': 0.7733333333333333,\n",
       "   'Recall': 0.7945205479452054,\n",
       "   'F1 score': 0.7837837837837838}),\n",
       " (91,\n",
       "  {'Accuracy': 0.8212290502793296,\n",
       "   'Precision': 0.7733333333333333,\n",
       "   'Recall': 0.7945205479452054,\n",
       "   'F1 score': 0.7837837837837838}),\n",
       " (45,\n",
       "  {'Accuracy': 0.8268156424581006,\n",
       "   'Precision': 0.8,\n",
       "   'Recall': 0.7671232876712328,\n",
       "   'F1 score': 0.7832167832167832}),\n",
       " (53,\n",
       "  {'Accuracy': 0.8268156424581006,\n",
       "   'Precision': 0.8,\n",
       "   'Recall': 0.7671232876712328,\n",
       "   'F1 score': 0.7832167832167832}),\n",
       " (31,\n",
       "  {'Accuracy': 0.8379888268156425,\n",
       "   'Precision': 0.8666666666666667,\n",
       "   'Recall': 0.7123287671232876,\n",
       "   'F1 score': 0.7819548872180451}),\n",
       " (68,\n",
       "  {'Accuracy': 0.8379888268156425,\n",
       "   'Precision': 0.8666666666666667,\n",
       "   'Recall': 0.7123287671232876,\n",
       "   'F1 score': 0.7819548872180451}),\n",
       " (86,\n",
       "  {'Accuracy': 0.8212290502793296,\n",
       "   'Precision': 0.7808219178082192,\n",
       "   'Recall': 0.7808219178082192,\n",
       "   'F1 score': 0.7808219178082192}),\n",
       " (29,\n",
       "  {'Accuracy': 0.8268156424581006,\n",
       "   'Precision': 0.8088235294117647,\n",
       "   'Recall': 0.7534246575342466,\n",
       "   'F1 score': 0.7801418439716311}),\n",
       " (71,\n",
       "  {'Accuracy': 0.8268156424581006,\n",
       "   'Precision': 0.8088235294117647,\n",
       "   'Recall': 0.7534246575342466,\n",
       "   'F1 score': 0.7801418439716311}),\n",
       " (85,\n",
       "  {'Accuracy': 0.8324022346368715,\n",
       "   'Precision': 0.8412698412698413,\n",
       "   'Recall': 0.726027397260274,\n",
       "   'F1 score': 0.7794117647058825}),\n",
       " (13,\n",
       "  {'Accuracy': 0.8212290502793296,\n",
       "   'Precision': 0.7887323943661971,\n",
       "   'Recall': 0.7671232876712328,\n",
       "   'F1 score': 0.7777777777777778}),\n",
       " (98,\n",
       "  {'Accuracy': 0.8268156424581006,\n",
       "   'Precision': 0.8181818181818182,\n",
       "   'Recall': 0.7397260273972602,\n",
       "   'F1 score': 0.776978417266187}),\n",
       " (50,\n",
       "  {'Accuracy': 0.8212290502793296,\n",
       "   'Precision': 0.7971014492753623,\n",
       "   'Recall': 0.7534246575342466,\n",
       "   'F1 score': 0.7746478873239437}),\n",
       " (70,\n",
       "  {'Accuracy': 0.8212290502793296,\n",
       "   'Precision': 0.7971014492753623,\n",
       "   'Recall': 0.7534246575342466,\n",
       "   'F1 score': 0.7746478873239437}),\n",
       " (20,\n",
       "  {'Accuracy': 0.8268156424581006,\n",
       "   'Precision': 0.828125,\n",
       "   'Recall': 0.726027397260274,\n",
       "   'F1 score': 0.7737226277372263}),\n",
       " (26,\n",
       "  {'Accuracy': 0.8268156424581006,\n",
       "   'Precision': 0.828125,\n",
       "   'Recall': 0.726027397260274,\n",
       "   'F1 score': 0.7737226277372263}),\n",
       " (95,\n",
       "  {'Accuracy': 0.8156424581005587,\n",
       "   'Precision': 0.7777777777777778,\n",
       "   'Recall': 0.7671232876712328,\n",
       "   'F1 score': 0.7724137931034483}),\n",
       " (78,\n",
       "  {'Accuracy': 0.8100558659217877,\n",
       "   'Precision': 0.76,\n",
       "   'Recall': 0.7808219178082192,\n",
       "   'F1 score': 0.7702702702702703}),\n",
       " (38,\n",
       "  {'Accuracy': 0.8156424581005587,\n",
       "   'Precision': 0.7857142857142857,\n",
       "   'Recall': 0.7534246575342466,\n",
       "   'F1 score': 0.7692307692307693}),\n",
       " (18,\n",
       "  {'Accuracy': 0.8212290502793296,\n",
       "   'Precision': 0.8153846153846154,\n",
       "   'Recall': 0.726027397260274,\n",
       "   'F1 score': 0.7681159420289856}),\n",
       " (55,\n",
       "  {'Accuracy': 0.8100558659217877,\n",
       "   'Precision': 0.7671232876712328,\n",
       "   'Recall': 0.7671232876712328,\n",
       "   'F1 score': 0.7671232876712328}),\n",
       " (63,\n",
       "  {'Accuracy': 0.8100558659217877,\n",
       "   'Precision': 0.7671232876712328,\n",
       "   'Recall': 0.7671232876712328,\n",
       "   'F1 score': 0.7671232876712328}),\n",
       " (74,\n",
       "  {'Accuracy': 0.8268156424581006,\n",
       "   'Precision': 0.85,\n",
       "   'Recall': 0.6986301369863014,\n",
       "   'F1 score': 0.7669172932330827}),\n",
       " (76,\n",
       "  {'Accuracy': 0.8324022346368715,\n",
       "   'Precision': 0.8909090909090909,\n",
       "   'Recall': 0.6712328767123288,\n",
       "   'F1 score': 0.7656250000000001}),\n",
       " (33,\n",
       "  {'Accuracy': 0.8044692737430168,\n",
       "   'Precision': 0.75,\n",
       "   'Recall': 0.7808219178082192,\n",
       "   'F1 score': 0.7651006711409396}),\n",
       " (75,\n",
       "  {'Accuracy': 0.8044692737430168,\n",
       "   'Precision': 0.75,\n",
       "   'Recall': 0.7808219178082192,\n",
       "   'F1 score': 0.7651006711409396}),\n",
       " (32,\n",
       "  {'Accuracy': 0.8212290502793296,\n",
       "   'Precision': 0.8253968253968254,\n",
       "   'Recall': 0.7123287671232876,\n",
       "   'F1 score': 0.7647058823529411}),\n",
       " (65,\n",
       "  {'Accuracy': 0.8212290502793296,\n",
       "   'Precision': 0.8253968253968254,\n",
       "   'Recall': 0.7123287671232876,\n",
       "   'F1 score': 0.7647058823529411}),\n",
       " (3,\n",
       "  {'Accuracy': 0.8100558659217877,\n",
       "   'Precision': 0.7746478873239436,\n",
       "   'Recall': 0.7534246575342466,\n",
       "   'F1 score': 0.7638888888888888}),\n",
       " (35,\n",
       "  {'Accuracy': 0.8100558659217877,\n",
       "   'Precision': 0.7746478873239436,\n",
       "   'Recall': 0.7534246575342466,\n",
       "   'F1 score': 0.7638888888888888}),\n",
       " (47,\n",
       "  {'Accuracy': 0.8100558659217877,\n",
       "   'Precision': 0.7746478873239436,\n",
       "   'Recall': 0.7534246575342466,\n",
       "   'F1 score': 0.7638888888888888}),\n",
       " (88,\n",
       "  {'Accuracy': 0.8156424581005587,\n",
       "   'Precision': 0.803030303030303,\n",
       "   'Recall': 0.726027397260274,\n",
       "   'F1 score': 0.7625899280575539}),\n",
       " (94,\n",
       "  {'Accuracy': 0.8156424581005587,\n",
       "   'Precision': 0.803030303030303,\n",
       "   'Recall': 0.726027397260274,\n",
       "   'F1 score': 0.7625899280575539}),\n",
       " (90,\n",
       "  {'Accuracy': 0.8044692737430168,\n",
       "   'Precision': 0.7567567567567568,\n",
       "   'Recall': 0.7671232876712328,\n",
       "   'F1 score': 0.761904761904762}),\n",
       " (64,\n",
       "  {'Accuracy': 0.8100558659217877,\n",
       "   'Precision': 0.782608695652174,\n",
       "   'Recall': 0.7397260273972602,\n",
       "   'F1 score': 0.7605633802816901}),\n",
       " (100,\n",
       "  {'Accuracy': 0.8100558659217877,\n",
       "   'Precision': 0.782608695652174,\n",
       "   'Recall': 0.7397260273972602,\n",
       "   'F1 score': 0.7605633802816901}),\n",
       " (48,\n",
       "  {'Accuracy': 0.8156424581005587,\n",
       "   'Precision': 0.8125,\n",
       "   'Recall': 0.7123287671232876,\n",
       "   'F1 score': 0.7591240875912408}),\n",
       " (58,\n",
       "  {'Accuracy': 0.8156424581005587,\n",
       "   'Precision': 0.8125,\n",
       "   'Recall': 0.7123287671232876,\n",
       "   'F1 score': 0.7591240875912408}),\n",
       " (81,\n",
       "  {'Accuracy': 0.8044692737430168,\n",
       "   'Precision': 0.7638888888888888,\n",
       "   'Recall': 0.7534246575342466,\n",
       "   'F1 score': 0.7586206896551725}),\n",
       " (27,\n",
       "  {'Accuracy': 0.8100558659217877,\n",
       "   'Precision': 0.7910447761194029,\n",
       "   'Recall': 0.726027397260274,\n",
       "   'F1 score': 0.757142857142857}),\n",
       " (52,\n",
       "  {'Accuracy': 0.8100558659217877,\n",
       "   'Precision': 0.7910447761194029,\n",
       "   'Recall': 0.726027397260274,\n",
       "   'F1 score': 0.757142857142857}),\n",
       " (7,\n",
       "  {'Accuracy': 0.8156424581005587,\n",
       "   'Precision': 0.8225806451612904,\n",
       "   'Recall': 0.6986301369863014,\n",
       "   'F1 score': 0.7555555555555556}),\n",
       " (11,\n",
       "  {'Accuracy': 0.8044692737430168,\n",
       "   'Precision': 0.7714285714285715,\n",
       "   'Recall': 0.7397260273972602,\n",
       "   'F1 score': 0.7552447552447553}),\n",
       " (14,\n",
       "  {'Accuracy': 0.7988826815642458,\n",
       "   'Precision': 0.7534246575342466,\n",
       "   'Recall': 0.7534246575342466,\n",
       "   'F1 score': 0.7534246575342466}),\n",
       " (19,\n",
       "  {'Accuracy': 0.8100558659217877,\n",
       "   'Precision': 0.8095238095238095,\n",
       "   'Recall': 0.6986301369863014,\n",
       "   'F1 score': 0.7500000000000001}),\n",
       " (99,\n",
       "  {'Accuracy': 0.8100558659217877,\n",
       "   'Precision': 0.8095238095238095,\n",
       "   'Recall': 0.6986301369863014,\n",
       "   'F1 score': 0.7500000000000001}),\n",
       " (1,\n",
       "  {'Accuracy': 0.7988826815642458,\n",
       "   'Precision': 0.7605633802816901,\n",
       "   'Recall': 0.7397260273972602,\n",
       "   'F1 score': 0.75}),\n",
       " (59,\n",
       "  {'Accuracy': 0.7988826815642458,\n",
       "   'Precision': 0.7605633802816901,\n",
       "   'Recall': 0.7397260273972602,\n",
       "   'F1 score': 0.75}),\n",
       " (42,\n",
       "  {'Accuracy': 0.7932960893854749,\n",
       "   'Precision': 0.7432432432432432,\n",
       "   'Recall': 0.7534246575342466,\n",
       "   'F1 score': 0.7482993197278911}),\n",
       " (93,\n",
       "  {'Accuracy': 0.8044692737430168,\n",
       "   'Precision': 0.7878787878787878,\n",
       "   'Recall': 0.7123287671232876,\n",
       "   'F1 score': 0.7482014388489209}),\n",
       " (51,\n",
       "  {'Accuracy': 0.7877094972067039,\n",
       "   'Precision': 0.7272727272727273,\n",
       "   'Recall': 0.7671232876712328,\n",
       "   'F1 score': 0.7466666666666667}),\n",
       " (5,\n",
       "  {'Accuracy': 0.8100558659217877,\n",
       "   'Precision': 0.819672131147541,\n",
       "   'Recall': 0.684931506849315,\n",
       "   'F1 score': 0.7462686567164178}),\n",
       " (17,\n",
       "  {'Accuracy': 0.7932960893854749,\n",
       "   'Precision': 0.75,\n",
       "   'Recall': 0.7397260273972602,\n",
       "   'F1 score': 0.7448275862068966}),\n",
       " (62,\n",
       "  {'Accuracy': 0.7988826815642458,\n",
       "   'Precision': 0.7761194029850746,\n",
       "   'Recall': 0.7123287671232876,\n",
       "   'F1 score': 0.7428571428571429}),\n",
       " (24,\n",
       "  {'Accuracy': 0.8100558659217877,\n",
       "   'Precision': 0.8305084745762712,\n",
       "   'Recall': 0.6712328767123288,\n",
       "   'F1 score': 0.7424242424242425}),\n",
       " (80,\n",
       "  {'Accuracy': 0.7932960893854749,\n",
       "   'Precision': 0.7571428571428571,\n",
       "   'Recall': 0.726027397260274,\n",
       "   'F1 score': 0.7412587412587412}),\n",
       " (8,\n",
       "  {'Accuracy': 0.8044692737430168,\n",
       "   'Precision': 0.8064516129032258,\n",
       "   'Recall': 0.684931506849315,\n",
       "   'F1 score': 0.7407407407407408}),\n",
       " (15,\n",
       "  {'Accuracy': 0.8044692737430168,\n",
       "   'Precision': 0.8064516129032258,\n",
       "   'Recall': 0.684931506849315,\n",
       "   'F1 score': 0.7407407407407408}),\n",
       " (12,\n",
       "  {'Accuracy': 0.7877094972067039,\n",
       "   'Precision': 0.7464788732394366,\n",
       "   'Recall': 0.726027397260274,\n",
       "   'F1 score': 0.736111111111111}),\n",
       " (9,\n",
       "  {'Accuracy': 0.7821229050279329,\n",
       "   'Precision': 0.7297297297297297,\n",
       "   'Recall': 0.7397260273972602,\n",
       "   'F1 score': 0.7346938775510203}),\n",
       " (96,\n",
       "  {'Accuracy': 0.776536312849162,\n",
       "   'Precision': 0.7142857142857143,\n",
       "   'Recall': 0.7534246575342466,\n",
       "   'F1 score': 0.7333333333333334}),\n",
       " (83,\n",
       "  {'Accuracy': 0.7821229050279329,\n",
       "   'Precision': 0.7361111111111112,\n",
       "   'Recall': 0.726027397260274,\n",
       "   'F1 score': 0.7310344827586207}),\n",
       " (16,\n",
       "  {'Accuracy': 0.7932960893854749,\n",
       "   'Precision': 0.78125,\n",
       "   'Recall': 0.684931506849315,\n",
       "   'F1 score': 0.7299270072992701}),\n",
       " (23,\n",
       "  {'Accuracy': 0.7932960893854749,\n",
       "   'Precision': 0.78125,\n",
       "   'Recall': 0.684931506849315,\n",
       "   'F1 score': 0.7299270072992701}),\n",
       " (72,\n",
       "  {'Accuracy': 0.7932960893854749,\n",
       "   'Precision': 0.78125,\n",
       "   'Recall': 0.684931506849315,\n",
       "   'F1 score': 0.7299270072992701}),\n",
       " (10,\n",
       "  {'Accuracy': 0.7877094972067039,\n",
       "   'Precision': 0.7611940298507462,\n",
       "   'Recall': 0.6986301369863014,\n",
       "   'F1 score': 0.7285714285714286}),\n",
       " (54,\n",
       "  {'Accuracy': 0.776536312849162,\n",
       "   'Precision': 0.726027397260274,\n",
       "   'Recall': 0.726027397260274,\n",
       "   'F1 score': 0.726027397260274}),\n",
       " (4,\n",
       "  {'Accuracy': 0.7932960893854749,\n",
       "   'Precision': 0.7903225806451613,\n",
       "   'Recall': 0.6712328767123288,\n",
       "   'F1 score': 0.725925925925926}),\n",
       " (30,\n",
       "  {'Accuracy': 0.7932960893854749,\n",
       "   'Precision': 0.7903225806451613,\n",
       "   'Recall': 0.6712328767123288,\n",
       "   'F1 score': 0.725925925925926}),\n",
       " (40,\n",
       "  {'Accuracy': 0.776536312849162,\n",
       "   'Precision': 0.746268656716418,\n",
       "   'Recall': 0.684931506849315,\n",
       "   'F1 score': 0.7142857142857143}),\n",
       " (41,\n",
       "  {'Accuracy': 0.7653631284916201,\n",
       "   'Precision': 0.7123287671232876,\n",
       "   'Recall': 0.7123287671232876,\n",
       "   'F1 score': 0.7123287671232877}),\n",
       " (49,\n",
       "  {'Accuracy': 0.7821229050279329,\n",
       "   'Precision': 0.7833333333333333,\n",
       "   'Recall': 0.6438356164383562,\n",
       "   'F1 score': 0.7067669172932332}),\n",
       " (57,\n",
       "  {'Accuracy': 0.7821229050279329,\n",
       "   'Precision': 0.7833333333333333,\n",
       "   'Recall': 0.6438356164383562,\n",
       "   'F1 score': 0.7067669172932332}),\n",
       " (67,\n",
       "  {'Accuracy': 0.7821229050279329,\n",
       "   'Precision': 0.7833333333333333,\n",
       "   'Recall': 0.6438356164383562,\n",
       "   'F1 score': 0.7067669172932332}),\n",
       " (34,\n",
       "  {'Accuracy': 0.776536312849162,\n",
       "   'Precision': 0.7704918032786885,\n",
       "   'Recall': 0.6438356164383562,\n",
       "   'F1 score': 0.7014925373134328}),\n",
       " (97,\n",
       "  {'Accuracy': 0.770949720670391,\n",
       "   'Precision': 0.75,\n",
       "   'Recall': 0.6575342465753424,\n",
       "   'F1 score': 0.7007299270072993}),\n",
       " (92,\n",
       "  {'Accuracy': 0.7653631284916201,\n",
       "   'Precision': 0.7313432835820896,\n",
       "   'Recall': 0.6712328767123288,\n",
       "   'F1 score': 0.7}),\n",
       " (84,\n",
       "  {'Accuracy': 0.7653631284916201,\n",
       "   'Precision': 0.7384615384615385,\n",
       "   'Recall': 0.6575342465753424,\n",
       "   'F1 score': 0.6956521739130435}),\n",
       " (77,\n",
       "  {'Accuracy': 0.7653631284916201,\n",
       "   'Precision': 0.7540983606557377,\n",
       "   'Recall': 0.6301369863013698,\n",
       "   'F1 score': 0.6865671641791045}),\n",
       " (56,\n",
       "  {'Accuracy': 0.7541899441340782,\n",
       "   'Precision': 0.7164179104477612,\n",
       "   'Recall': 0.6575342465753424,\n",
       "   'F1 score': 0.6857142857142857}),\n",
       " (82,\n",
       "  {'Accuracy': 0.7541899441340782,\n",
       "   'Precision': 0.7301587301587301,\n",
       "   'Recall': 0.6301369863013698,\n",
       "   'F1 score': 0.6764705882352942})]"
      ]
     },
     "execution_count": 145,
     "metadata": {},
     "output_type": "execute_result"
    }
   ],
   "source": [
    "sorted(res.items(), key=lambda x: x[1]['F1 score'], reverse=True)"
   ]
  },
  {
   "cell_type": "code",
   "execution_count": 631,
   "id": "5477bc84",
   "metadata": {},
   "outputs": [
    {
     "data": {
      "text/html": [
       "<div>\n",
       "<style scoped>\n",
       "    .dataframe tbody tr th:only-of-type {\n",
       "        vertical-align: middle;\n",
       "    }\n",
       "\n",
       "    .dataframe tbody tr th {\n",
       "        vertical-align: top;\n",
       "    }\n",
       "\n",
       "    .dataframe thead th {\n",
       "        text-align: right;\n",
       "    }\n",
       "</style>\n",
       "<table border=\"1\" class=\"dataframe\">\n",
       "  <thead>\n",
       "    <tr style=\"text-align: right;\">\n",
       "      <th></th>\n",
       "      <th>Pclass</th>\n",
       "      <th>Name</th>\n",
       "      <th>Sex</th>\n",
       "      <th>Age</th>\n",
       "      <th>SibSp</th>\n",
       "      <th>Parch</th>\n",
       "      <th>Ticket</th>\n",
       "      <th>Fare</th>\n",
       "      <th>Cabin</th>\n",
       "      <th>Embarked</th>\n",
       "    </tr>\n",
       "    <tr>\n",
       "      <th>PassengerId</th>\n",
       "      <th></th>\n",
       "      <th></th>\n",
       "      <th></th>\n",
       "      <th></th>\n",
       "      <th></th>\n",
       "      <th></th>\n",
       "      <th></th>\n",
       "      <th></th>\n",
       "      <th></th>\n",
       "      <th></th>\n",
       "    </tr>\n",
       "  </thead>\n",
       "  <tbody>\n",
       "    <tr>\n",
       "      <th>892</th>\n",
       "      <td>3</td>\n",
       "      <td>Kelly, Mr. James</td>\n",
       "      <td>male</td>\n",
       "      <td>34.5</td>\n",
       "      <td>0</td>\n",
       "      <td>0</td>\n",
       "      <td>330911</td>\n",
       "      <td>7.8292</td>\n",
       "      <td>NaN</td>\n",
       "      <td>Q</td>\n",
       "    </tr>\n",
       "    <tr>\n",
       "      <th>893</th>\n",
       "      <td>3</td>\n",
       "      <td>Wilkes, Mrs. James (Ellen Needs)</td>\n",
       "      <td>female</td>\n",
       "      <td>47.0</td>\n",
       "      <td>1</td>\n",
       "      <td>0</td>\n",
       "      <td>363272</td>\n",
       "      <td>7.0000</td>\n",
       "      <td>NaN</td>\n",
       "      <td>S</td>\n",
       "    </tr>\n",
       "    <tr>\n",
       "      <th>894</th>\n",
       "      <td>2</td>\n",
       "      <td>Myles, Mr. Thomas Francis</td>\n",
       "      <td>male</td>\n",
       "      <td>62.0</td>\n",
       "      <td>0</td>\n",
       "      <td>0</td>\n",
       "      <td>240276</td>\n",
       "      <td>9.6875</td>\n",
       "      <td>NaN</td>\n",
       "      <td>Q</td>\n",
       "    </tr>\n",
       "    <tr>\n",
       "      <th>895</th>\n",
       "      <td>3</td>\n",
       "      <td>Wirz, Mr. Albert</td>\n",
       "      <td>male</td>\n",
       "      <td>27.0</td>\n",
       "      <td>0</td>\n",
       "      <td>0</td>\n",
       "      <td>315154</td>\n",
       "      <td>8.6625</td>\n",
       "      <td>NaN</td>\n",
       "      <td>S</td>\n",
       "    </tr>\n",
       "    <tr>\n",
       "      <th>896</th>\n",
       "      <td>3</td>\n",
       "      <td>Hirvonen, Mrs. Alexander (Helga E Lindqvist)</td>\n",
       "      <td>female</td>\n",
       "      <td>22.0</td>\n",
       "      <td>1</td>\n",
       "      <td>1</td>\n",
       "      <td>3101298</td>\n",
       "      <td>12.2875</td>\n",
       "      <td>NaN</td>\n",
       "      <td>S</td>\n",
       "    </tr>\n",
       "    <tr>\n",
       "      <th>...</th>\n",
       "      <td>...</td>\n",
       "      <td>...</td>\n",
       "      <td>...</td>\n",
       "      <td>...</td>\n",
       "      <td>...</td>\n",
       "      <td>...</td>\n",
       "      <td>...</td>\n",
       "      <td>...</td>\n",
       "      <td>...</td>\n",
       "      <td>...</td>\n",
       "    </tr>\n",
       "    <tr>\n",
       "      <th>1305</th>\n",
       "      <td>3</td>\n",
       "      <td>Spector, Mr. Woolf</td>\n",
       "      <td>male</td>\n",
       "      <td>NaN</td>\n",
       "      <td>0</td>\n",
       "      <td>0</td>\n",
       "      <td>A.5. 3236</td>\n",
       "      <td>8.0500</td>\n",
       "      <td>NaN</td>\n",
       "      <td>S</td>\n",
       "    </tr>\n",
       "    <tr>\n",
       "      <th>1306</th>\n",
       "      <td>1</td>\n",
       "      <td>Oliva y Ocana, Dona. Fermina</td>\n",
       "      <td>female</td>\n",
       "      <td>39.0</td>\n",
       "      <td>0</td>\n",
       "      <td>0</td>\n",
       "      <td>PC 17758</td>\n",
       "      <td>108.9000</td>\n",
       "      <td>C105</td>\n",
       "      <td>C</td>\n",
       "    </tr>\n",
       "    <tr>\n",
       "      <th>1307</th>\n",
       "      <td>3</td>\n",
       "      <td>Saether, Mr. Simon Sivertsen</td>\n",
       "      <td>male</td>\n",
       "      <td>38.5</td>\n",
       "      <td>0</td>\n",
       "      <td>0</td>\n",
       "      <td>SOTON/O.Q. 3101262</td>\n",
       "      <td>7.2500</td>\n",
       "      <td>NaN</td>\n",
       "      <td>S</td>\n",
       "    </tr>\n",
       "    <tr>\n",
       "      <th>1308</th>\n",
       "      <td>3</td>\n",
       "      <td>Ware, Mr. Frederick</td>\n",
       "      <td>male</td>\n",
       "      <td>NaN</td>\n",
       "      <td>0</td>\n",
       "      <td>0</td>\n",
       "      <td>359309</td>\n",
       "      <td>8.0500</td>\n",
       "      <td>NaN</td>\n",
       "      <td>S</td>\n",
       "    </tr>\n",
       "    <tr>\n",
       "      <th>1309</th>\n",
       "      <td>3</td>\n",
       "      <td>Peter, Master. Michael J</td>\n",
       "      <td>male</td>\n",
       "      <td>NaN</td>\n",
       "      <td>1</td>\n",
       "      <td>1</td>\n",
       "      <td>2668</td>\n",
       "      <td>22.3583</td>\n",
       "      <td>NaN</td>\n",
       "      <td>C</td>\n",
       "    </tr>\n",
       "  </tbody>\n",
       "</table>\n",
       "<p>418 rows × 10 columns</p>\n",
       "</div>"
      ],
      "text/plain": [
       "             Pclass                                          Name     Sex  \\\n",
       "PassengerId                                                                 \n",
       "892               3                              Kelly, Mr. James    male   \n",
       "893               3              Wilkes, Mrs. James (Ellen Needs)  female   \n",
       "894               2                     Myles, Mr. Thomas Francis    male   \n",
       "895               3                              Wirz, Mr. Albert    male   \n",
       "896               3  Hirvonen, Mrs. Alexander (Helga E Lindqvist)  female   \n",
       "...             ...                                           ...     ...   \n",
       "1305              3                            Spector, Mr. Woolf    male   \n",
       "1306              1                  Oliva y Ocana, Dona. Fermina  female   \n",
       "1307              3                  Saether, Mr. Simon Sivertsen    male   \n",
       "1308              3                           Ware, Mr. Frederick    male   \n",
       "1309              3                      Peter, Master. Michael J    male   \n",
       "\n",
       "              Age  SibSp  Parch              Ticket      Fare Cabin Embarked  \n",
       "PassengerId                                                                   \n",
       "892          34.5      0      0              330911    7.8292   NaN        Q  \n",
       "893          47.0      1      0              363272    7.0000   NaN        S  \n",
       "894          62.0      0      0              240276    9.6875   NaN        Q  \n",
       "895          27.0      0      0              315154    8.6625   NaN        S  \n",
       "896          22.0      1      1             3101298   12.2875   NaN        S  \n",
       "...           ...    ...    ...                 ...       ...   ...      ...  \n",
       "1305          NaN      0      0           A.5. 3236    8.0500   NaN        S  \n",
       "1306         39.0      0      0            PC 17758  108.9000  C105        C  \n",
       "1307         38.5      0      0  SOTON/O.Q. 3101262    7.2500   NaN        S  \n",
       "1308          NaN      0      0              359309    8.0500   NaN        S  \n",
       "1309          NaN      1      1                2668   22.3583   NaN        C  \n",
       "\n",
       "[418 rows x 10 columns]"
      ]
     },
     "execution_count": 631,
     "metadata": {},
     "output_type": "execute_result"
    }
   ],
   "source": [
    "df_train = pd.read_csv('test.csv', index_col='PassengerId')\n",
    "df_train"
   ]
  },
  {
   "cell_type": "code",
   "execution_count": null,
   "id": "f13b2899",
   "metadata": {},
   "outputs": [],
   "source": [
    "df_train.drop(['Name', 'Ticket', 'Fare', 'Cabin'])"
   ]
  },
  {
   "cell_type": "code",
   "execution_count": null,
   "id": "3b76a357",
   "metadata": {},
   "outputs": [],
   "source": [
    "https://www.kaggle.com/code/brendan45774/titanic-top-solution?scriptVersionId=73739211&cellId=2"
   ]
  }
 ],
 "metadata": {
  "kernelspec": {
   "display_name": "Python 3 (ipykernel)",
   "language": "python",
   "name": "python3"
  },
  "language_info": {
   "codemirror_mode": {
    "name": "ipython",
    "version": 3
   },
   "file_extension": ".py",
   "mimetype": "text/x-python",
   "name": "python",
   "nbconvert_exporter": "python",
   "pygments_lexer": "ipython3",
   "version": "3.10.6"
  }
 },
 "nbformat": 4,
 "nbformat_minor": 5
}
